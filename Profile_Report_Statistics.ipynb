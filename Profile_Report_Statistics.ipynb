{
 "cells": [
  {
   "cell_type": "code",
   "execution_count": null,
   "metadata": {},
   "outputs": [],
   "source": [
    "import pandas as pd\n",
    "import pandas_profiling\n",
    "import numpy as np"
   ]
  },
  {
   "cell_type": "markdown",
   "metadata": {},
   "source": [
    "## Profile Report"
   ]
  },
  {
   "cell_type": "code",
   "execution_count": null,
   "metadata": {},
   "outputs": [],
   "source": [
    "# Import all datasets\n",
    "kadaster = pd.read_csv(\"kadaster/kadaster_merged_dataset_corrected.csv\", dtype=str)\n",
    "sbi = pd.read_csv(\"kvk/sbi_codes/kvk_sbi_codes.csv\", dtype=object)\n",
    "kvk = pd.read_excel(\"kvk/DatasetKvK01102019.xls\", dtype=object)\n",
    "niwo = pd.read_csv(\"niwo/niwo_dict.csv\", dtype=object)\n",
    "fenex = pd.read_csv(\"fenex/fenex.csv\", dtype=object)\n",
    "company_info = pd.read_csv(\"company_info/kvk_companyinfo.csv\", dtype=object)"
   ]
  },
  {
   "cell_type": "code",
   "execution_count": null,
   "metadata": {},
   "outputs": [],
   "source": [
    "# Drop columns not used for analysis\n",
    "kvk_drop = ['RGL','STRVA', 'PCPLVA', 'STRCA', 'PCPLCA','HN1X30', 'HN1X2X30', 'HN2X2X30', \\\n",
    "            'PCCA', 'GEMK_VA', 'GEMK_CA', 'GEMNAAM', 'PROV', 'STRAAT_CA', 'HUISNR_CA', \\\n",
    "            'TOEV_CA', 'PC_CA', 'PLAATS_CA', 'NMI', 'HFD_N_VEST', 'C_HOOFDACT', 'VERK_ACT', \\\n",
    "            'NEVEN1', 'NEVEN2', 'IND_IM_EXP', 'BEHKN', 'GEOKN']\n",
    "kadaster_drop = ['nrAanduiding','vblObject']\n",
    "\n",
    "kvk = kvk.drop(kvk_drop, axis=1)\n",
    "kadaster = kadaster.drop(kadaster_drop, axis=1)"
   ]
  },
  {
   "cell_type": "code",
   "execution_count": null,
   "metadata": {},
   "outputs": [],
   "source": [
    "# Redfine data types\n",
    "kvk[\"HUISNR_VA\"] = kvk[\"HUISNR_VA\"].astype('int64')\n",
    "kadaster[\"huisnummer\"] = kadaster[\"huisnummer\"].astype('int64')"
   ]
  },
  {
   "cell_type": "code",
   "execution_count": null,
   "metadata": {},
   "outputs": [],
   "source": [
    "# Make list of companies in Niwo/Fenex\n",
    "niwo_kvknr = niwo[\"kvk_nummer\"].to_list()\n",
    "fenex_compname = [x.lower().strip() for x in fenex[\"Company Name\"].to_list()]"
   ]
  },
  {
   "cell_type": "code",
   "execution_count": null,
   "metadata": {},
   "outputs": [],
   "source": [
    "# Merge data\n",
    "merged_data = pd.merge(left=kvk, right=kadaster, how='left', left_on=[\"PCVA\",\"HUISNR_VA\"], \\\n",
    "                        right_on=[\"postcode\",\"huisnummer\"])\n",
    "merged_data = pd.merge(left=merged_data, right=sbi, how='left', on=[\"DOSSIER\",\"VGNUMMER\"])\n",
    "merged_data = pd.merge(left=merged_data, right=company_info, how='left', left_on=\"DOSSIER\", right_on=\"kvknr\")"
   ]
  },
  {
   "cell_type": "code",
   "execution_count": null,
   "metadata": {},
   "outputs": [],
   "source": [
    "# Label companies in niwo/fenex\n",
    "merged_data['inNiwo'] = [1 if x in niwo_kvknr else 0 for x in merged_data['DOSSIER']] \n",
    "merged_data[\"inFenex\"] = [1 if x.lower() in fenex_compname else 0 for x in merged_data[\"HN45\"].astype(str)]"
   ]
  },
  {
   "cell_type": "code",
   "execution_count": null,
   "metadata": {},
   "outputs": [],
   "source": [
    "# Drop duplicate/unneeded columns\n",
    "drop_cols = [\"huisnummer\",\"postcode\",\"kvknr\"]\n",
    "merged_data = merged_data.drop(drop_cols,axis=1)"
   ]
  },
  {
   "cell_type": "code",
   "execution_count": null,
   "metadata": {},
   "outputs": [],
   "source": [
    "# Refine data types\n",
    "merged_data[\"RV\"] = merged_data[\"RV\"].astype(int)\n",
    "merged_data[\"oppervlakte\"] = merged_data[\"oppervlakte\"].astype(float)\n",
    "merged_data[\"emp_class\"] = merged_data[\"emp_class\"].replace(to_replace=[np.nan,'io'],value=None)\n",
    "merged_data[\"emp_class\"] = merged_data[\"emp_class\"].astype(int)\n",
    "merged_data[\"reg_date\"] = merged_data[\"reg_date\"].replace(to_replace=['ull,\"emplo','(w,d,s,l,i'], value=None)\n",
    "merged_data['reg_date'] = pd.to_datetime(merged_data['reg_date'])"
   ]
  },
  {
   "cell_type": "code",
   "execution_count": null,
   "metadata": {},
   "outputs": [],
   "source": [
    "# Replace values\n",
    "merged_data[\"inOnderzoek\"] = merged_data[\"inOnderzoek\"].replace(to_replace='True', value = 1)\n",
    "merged_data[\"inOnderzoek\"] = merged_data[\"inOnderzoek\"].replace(to_replace='False', value = 0)\n",
    "merged_data[\"vbloStatus\"] = merged_data[\"vbloStatus\"].replace(to_replace='in gebruik (niet ingemeten)', value='in gebruik')"
   ]
  },
  {
   "cell_type": "code",
   "execution_count": null,
   "metadata": {},
   "outputs": [],
   "source": [
    "# Filter on one branch\n",
    "transport_storage = merged_data[merged_data[\"C_HOOFDACT\"]==\"H\"]"
   ]
  },
  {
   "cell_type": "code",
   "execution_count": null,
   "metadata": {},
   "outputs": [],
   "source": [
    "# Create profile report\n",
    "profile = pandas_profiling.ProfileReport(transport_storage, title='Expeditors Profiling Report')"
   ]
  },
  {
   "cell_type": "code",
   "execution_count": null,
   "metadata": {},
   "outputs": [],
   "source": [
    "profile"
   ]
  },
  {
   "cell_type": "code",
   "execution_count": null,
   "metadata": {},
   "outputs": [],
   "source": [
    "# Safe profile report\n",
    "profile.to_file(output_file=\"your_report.html\")"
   ]
  },
  {
   "cell_type": "markdown",
   "metadata": {},
   "source": [
    "## Detail Histograms"
   ]
  },
  {
   "cell_type": "code",
   "execution_count": null,
   "metadata": {},
   "outputs": [],
   "source": [
    "# Create histogram of employee class (shift to correct ticks)\n",
    "employee = kvk_kad_sbi_comp[\"emp_class\"] +0.5\n",
    "plt.hist(employee,bins=[1.5,2.5,3.5,4.5,5.5,6.5,7.5,8.5,9.5,10.5,11.5,12.5])\n",
    "plt.xlabel(\"employee class\")\n",
    "plt.ylabel(\"number of companies\")\n",
    "plt.savefig(\"emp_class.svg\")\n",
    "plt.show()"
   ]
  },
  {
   "cell_type": "code",
   "execution_count": null,
   "metadata": {},
   "outputs": [],
   "source": [
    "# Resize for readability in report\n",
    "matplotlib.rc('xtick', labelsize=25) \n",
    "matplotlib.rc('ytick', labelsize=25) \n",
    "labelfont = 25"
   ]
  },
  {
   "cell_type": "code",
   "execution_count": null,
   "metadata": {},
   "outputs": [],
   "source": [
    "# Create histogram of area (all data) (shift to correct ticks)\n",
    "area = kvk_kad_sbi_comp[\"oppervlakte\"] + 0.5\n",
    "bins = 100\n",
    "plt.figure(figsize=(20,5))\n",
    "plt.hist(area,bins=bins)\n",
    "plt.xlabel(\"surface area (m2)\", fontsize=labelfont)\n",
    "plt.ylabel(\"number of companies\", fontsize=labelfont)\n",
    "plt.savefig(\"area_large.svg\")\n",
    "plt.plot()"
   ]
  },
  {
   "cell_type": "code",
   "execution_count": null,
   "metadata": {},
   "outputs": [],
   "source": [
    "# Create histogram of area (partial data) (shift to correct ticks)\n",
    "area_small = area[area < 50000]\n",
    "bins_small = 50\n",
    "plt.figure(figsize=(20,5))\n",
    "plt.hist(area_small,bins=bins_small)\n",
    "plt.xlabel(\"surface area (m2)\", fontsize=labelfont)\n",
    "plt.ylabel(\"number of companies\", fontsize=labelfont)\n",
    "plt.savefig(\"area_small.svg\")\n",
    "plt.plot()"
   ]
  }
 ],
 "metadata": {
  "kernelspec": {
   "display_name": "Python 3",
   "language": "python",
   "name": "python3"
  },
  "language_info": {
   "codemirror_mode": {
    "name": "ipython",
    "version": 3
   },
   "file_extension": ".py",
   "mimetype": "text/x-python",
   "name": "python",
   "nbconvert_exporter": "python",
   "pygments_lexer": "ipython3",
   "version": "3.7.4"
  }
 },
 "nbformat": 4,
 "nbformat_minor": 2
}
