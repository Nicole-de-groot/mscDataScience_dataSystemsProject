{
 "cells": [
  {
   "cell_type": "code",
   "execution_count": 1,
   "metadata": {},
   "outputs": [],
   "source": [
    "import pandas as pd"
   ]
  },
  {
   "cell_type": "code",
   "execution_count": 2,
   "metadata": {},
   "outputs": [],
   "source": [
    "#importeer sbi-codes vanuit de kvk-dataset\n",
    "sbi = pd.read_excel(\"../DatasetKvK01102019.xls\", converters={'C_HOOFDACT': lambda x: str(x), 'NEVEN1': lambda x: str(x),'NEVEN2': lambda x: str(x)})[[\"C_HOOFDACT\",\"NEVEN1\",\"NEVEN2\"]]"
   ]
  },
  {
   "cell_type": "code",
   "execution_count": 3,
   "metadata": {},
   "outputs": [
    {
     "data": {
      "text/plain": [
       "C_HOOFDACT     0111\n",
       "NEVEN1        01131\n",
       "NEVEN2        52291\n",
       "Name: 5761, dtype: object"
      ]
     },
     "execution_count": 3,
     "metadata": {},
     "output_type": "execute_result"
    }
   ],
   "source": [
    "#voorbeeld\n",
    "sbi.iloc[5761]"
   ]
  },
  {
   "cell_type": "code",
   "execution_count": null,
   "metadata": {},
   "outputs": [],
   "source": [
    "#krijg unique sbi waardes\n",
    "hoofd = sbi[\"C_HOOFDACT\"].unique().tolist()\n",
    "neven_1 = sbi[\"NEVEN1\"].dropna().unique().tolist()\n",
    "neven_2 = sbi[\"NEVEN2\"].dropna().unique().tolist()"
   ]
  },
  {
   "cell_type": "code",
   "execution_count": null,
   "metadata": {},
   "outputs": [],
   "source": [
    "#combineer en maak set (unique waardes)\n",
    "sbi_filtered = set(hoofd+neven_1+neven_2)\n",
    "print(len(sbi_filtered),\"unique sbi-codes\")"
   ]
  },
  {
   "cell_type": "code",
   "execution_count": null,
   "metadata": {},
   "outputs": [],
   "source": [
    "#importeer de sbi-codes\n",
    "sbi_codes = pd.read_csv(\"sbi_filtered.csv\")\n",
    "sbi_codes.head()"
   ]
  },
  {
   "cell_type": "code",
   "execution_count": null,
   "metadata": {},
   "outputs": [],
   "source": [
    "#nieuw dataframe\n",
    "sbi_df = pd.DataFrame(columns=[\"branch_code\",\"branch_name\"], dtype='object')"
   ]
  },
  {
   "cell_type": "code",
   "execution_count": null,
   "metadata": {},
   "outputs": [],
   "source": [
    "#koppel branch-code van kvk-dataset aan branch-name van sbi-code-dataset\n",
    "for key in sbi_filtered:\n",
    "    res = '.'.join(key[i:i + 2] for i in range(0, len(key), 2))\n",
    "    code = sbi_codes[\"branch_name\"].where(sbi_codes[\"branch_code\"]==res).dropna().item()\n",
    "    sbi_miniframe = pd.DataFrame(data=[[key,code]], columns=[\"branch_code\",\"branch_name\"], dtype='object')\n",
    "    sbi_df = sbi_df.append(sbi_miniframe)"
   ]
  },
  {
   "cell_type": "code",
   "execution_count": null,
   "metadata": {},
   "outputs": [],
   "source": [
    "sbi_df.head()"
   ]
  },
  {
   "cell_type": "code",
   "execution_count": null,
   "metadata": {},
   "outputs": [],
   "source": [
    "#sla sbi-codes op\n",
    "sbi_df.to_csv(\"kvk_sbi_codes.csv\", index=None)"
   ]
  }
 ],
 "metadata": {
  "kernelspec": {
   "display_name": "Python 3",
   "language": "python",
   "name": "python3"
  },
  "language_info": {
   "codemirror_mode": {
    "name": "ipython",
    "version": 3
   },
   "file_extension": ".py",
   "mimetype": "text/x-python",
   "name": "python",
   "nbconvert_exporter": "python",
   "pygments_lexer": "ipython3",
   "version": "3.7.4"
  }
 },
 "nbformat": 4,
 "nbformat_minor": 2
}
