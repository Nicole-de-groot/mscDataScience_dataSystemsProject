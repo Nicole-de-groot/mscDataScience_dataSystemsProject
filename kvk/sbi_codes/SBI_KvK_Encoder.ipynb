{
 "cells": [
  {
   "cell_type": "code",
   "execution_count": 2,
   "metadata": {},
   "outputs": [],
   "source": [
    "import pandas as pd\n",
    "import re"
   ]
  },
  {
   "cell_type": "code",
   "execution_count": 3,
   "metadata": {},
   "outputs": [],
   "source": [
    "sbi_codes = pd.read_excel(\"sbi_2008_update_2019.xlsx\").dropna().reset_index(drop=True)\n",
    "sbi_kvk = pd.read_excel(\"../DatasetKvK01102019.xls\", usecols=[\"DOSSIER\",\"VGNUMMER\",\"C_HOOFDACT\",\"NEVEN1\",\"NEVEN2\"], dtype=object)"
   ]
  },
  {
   "cell_type": "code",
   "execution_count": 4,
   "metadata": {},
   "outputs": [],
   "source": [
    "sbi_codes.columns = [\"Code\",\"Branch\"]"
   ]
  },
  {
   "cell_type": "code",
   "execution_count": 5,
   "metadata": {},
   "outputs": [],
   "source": [
    "l = []\n",
    "for index, row in sbi_codes.iterrows():\n",
    "    code = str(row[\"Code\"])\n",
    "    if \".\" not in code:\n",
    "        if re.search('[a-zA-Z]', code)!=None:     \n",
    "#             print(index,code)\n",
    "            l.append(index)"
   ]
  },
  {
   "cell_type": "code",
   "execution_count": 6,
   "metadata": {},
   "outputs": [],
   "source": [
    "sbi_hoofd_branches = pd.DataFrame(columns=[\"Code\",\"Branch\"])\n",
    "for index in l:\n",
    "#     print(sbi_codes.iloc[index])\n",
    "    sbi_hoofd_branches = sbi_hoofd_branches.append(sbi_codes.iloc[index])"
   ]
  },
  {
   "cell_type": "code",
   "execution_count": 7,
   "metadata": {},
   "outputs": [],
   "source": [
    "sbi_hoofd_branches.to_csv(\"sbi_headbranch_codes.csv\",index=False)"
   ]
  },
  {
   "cell_type": "code",
   "execution_count": 8,
   "metadata": {},
   "outputs": [],
   "source": [
    "l=l[1:]\n",
    "l_mod = [0] + l + [max(l)+1]\n",
    "\n",
    "list_of_dfs = [sbi_codes.iloc[l_mod[n]:l_mod[n+1]] for n in range(len(l_mod)-1)]"
   ]
  },
  {
   "cell_type": "code",
   "execution_count": 9,
   "metadata": {},
   "outputs": [],
   "source": [
    "def sbi_encoder(df):\n",
    "    global sbi_dict\n",
    "    df = df.reset_index()\n",
    "    hoofd_branch = df[\"Code\"][0]\n",
    "#     print(hoofd_branch)\n",
    "    for index, row in df.iterrows():\n",
    "        code = str(row[\"Code\"])\n",
    "        if \".\" not in code:\n",
    "            if re.search('[a-zA-Z]', code)==None:     \n",
    "                sbi_dict[str(code)] = hoofd_branch\n",
    "#                 print(code)"
   ]
  },
  {
   "cell_type": "code",
   "execution_count": 10,
   "metadata": {},
   "outputs": [],
   "source": [
    "sbi_dict = {}\n",
    "for df in list_of_dfs:\n",
    "    sbi_encoder(df)"
   ]
  },
  {
   "cell_type": "code",
   "execution_count": 11,
   "metadata": {
    "scrolled": true
   },
   "outputs": [
    {
     "data": {
      "text/plain": [
       "{'01': 'A',\n",
       " '02': 'A',\n",
       " '03': 'A',\n",
       " '06': 'B',\n",
       " '08': 'B',\n",
       " '09': 'B',\n",
       " '10': 'C',\n",
       " '11': 'C',\n",
       " '12': 'C',\n",
       " '13': 'C',\n",
       " '14': 'C',\n",
       " '15': 'C',\n",
       " '16': 'C',\n",
       " '17': 'C',\n",
       " '18': 'C',\n",
       " '19': 'C',\n",
       " '20': 'C',\n",
       " '21': 'C',\n",
       " '22': 'C',\n",
       " '23': 'C',\n",
       " '24': 'C',\n",
       " '25': 'C',\n",
       " '26': 'C',\n",
       " '27': 'C',\n",
       " '28': 'C',\n",
       " '29': 'C',\n",
       " '30': 'C',\n",
       " '31': 'C',\n",
       " '32': 'C',\n",
       " '33': 'C',\n",
       " '35': 'D',\n",
       " '36': 'E',\n",
       " '37': 'E',\n",
       " '38': 'E',\n",
       " '39': 'E',\n",
       " '41': 'F',\n",
       " '42': 'F',\n",
       " '43': 'F',\n",
       " '45': 'G',\n",
       " '46': 'G',\n",
       " '47': 'G',\n",
       " '49': 'H',\n",
       " '50': 'H',\n",
       " '51': 'H',\n",
       " '52': 'H',\n",
       " '53': 'H',\n",
       " '55': 'I',\n",
       " '56': 'I',\n",
       " '58': 'J',\n",
       " '59': 'J',\n",
       " '60': 'J',\n",
       " '61': 'J',\n",
       " '62': 'J',\n",
       " '63': 'J',\n",
       " '64': 'K',\n",
       " '65': 'K',\n",
       " '66': 'K',\n",
       " '68': 'L',\n",
       " '69': 'M',\n",
       " '70': 'M',\n",
       " '71': 'M',\n",
       " '72': 'M',\n",
       " '73': 'M',\n",
       " '74': 'M',\n",
       " '75': 'M',\n",
       " '77': 'N',\n",
       " '78': 'N',\n",
       " '79': 'N',\n",
       " '80': 'N',\n",
       " '81': 'N',\n",
       " '82': 'N',\n",
       " '84': 'O',\n",
       " '85': 'P',\n",
       " '86': 'Q',\n",
       " '87': 'Q',\n",
       " '88': 'Q',\n",
       " '90': 'R',\n",
       " '91': 'R',\n",
       " '92': 'R',\n",
       " '93': 'R',\n",
       " '94': 'S',\n",
       " '95': 'S',\n",
       " '96': 'S',\n",
       " '97': 'T',\n",
       " '98': 'T'}"
      ]
     },
     "execution_count": 11,
     "metadata": {},
     "output_type": "execute_result"
    }
   ],
   "source": [
    "sbi_dict"
   ]
  },
  {
   "cell_type": "code",
   "execution_count": 12,
   "metadata": {},
   "outputs": [
    {
     "data": {
      "text/html": [
       "<div>\n",
       "<style scoped>\n",
       "    .dataframe tbody tr th:only-of-type {\n",
       "        vertical-align: middle;\n",
       "    }\n",
       "\n",
       "    .dataframe tbody tr th {\n",
       "        vertical-align: top;\n",
       "    }\n",
       "\n",
       "    .dataframe thead th {\n",
       "        text-align: right;\n",
       "    }\n",
       "</style>\n",
       "<table border=\"1\" class=\"dataframe\">\n",
       "  <thead>\n",
       "    <tr style=\"text-align: right;\">\n",
       "      <th></th>\n",
       "      <th>DOSSIER</th>\n",
       "      <th>VGNUMMER</th>\n",
       "      <th>C_HOOFDACT</th>\n",
       "      <th>NEVEN1</th>\n",
       "      <th>NEVEN2</th>\n",
       "    </tr>\n",
       "  </thead>\n",
       "  <tbody>\n",
       "    <tr>\n",
       "      <th>0</th>\n",
       "      <td>01016460</td>\n",
       "      <td>000018080715</td>\n",
       "      <td>52291</td>\n",
       "      <td>NaN</td>\n",
       "      <td>NaN</td>\n",
       "    </tr>\n",
       "    <tr>\n",
       "      <th>1</th>\n",
       "      <td>01036591</td>\n",
       "      <td>000015881202</td>\n",
       "      <td>52291</td>\n",
       "      <td>77399</td>\n",
       "      <td>77111</td>\n",
       "    </tr>\n",
       "    <tr>\n",
       "      <th>2</th>\n",
       "      <td>01038431</td>\n",
       "      <td>000015998142</td>\n",
       "      <td>52291</td>\n",
       "      <td>3321</td>\n",
       "      <td>4941</td>\n",
       "    </tr>\n",
       "    <tr>\n",
       "      <th>3</th>\n",
       "      <td>01049319</td>\n",
       "      <td>000017297222</td>\n",
       "      <td>52291</td>\n",
       "      <td>NaN</td>\n",
       "      <td>NaN</td>\n",
       "    </tr>\n",
       "    <tr>\n",
       "      <th>4</th>\n",
       "      <td>01056343</td>\n",
       "      <td>000017633524</td>\n",
       "      <td>52102</td>\n",
       "      <td>52109</td>\n",
       "      <td>52291</td>\n",
       "    </tr>\n",
       "  </tbody>\n",
       "</table>\n",
       "</div>"
      ],
      "text/plain": [
       "    DOSSIER      VGNUMMER C_HOOFDACT NEVEN1 NEVEN2\n",
       "0  01016460  000018080715      52291    NaN    NaN\n",
       "1  01036591  000015881202      52291  77399  77111\n",
       "2  01038431  000015998142      52291   3321   4941\n",
       "3  01049319  000017297222      52291    NaN    NaN\n",
       "4  01056343  000017633524      52102  52109  52291"
      ]
     },
     "execution_count": 12,
     "metadata": {},
     "output_type": "execute_result"
    }
   ],
   "source": [
    "sbi_kvk.head()"
   ]
  },
  {
   "cell_type": "code",
   "execution_count": 13,
   "metadata": {},
   "outputs": [],
   "source": [
    "sbi_kvk_encoded = pd.DataFrame(columns=sbi_kvk.columns)"
   ]
  },
  {
   "cell_type": "code",
   "execution_count": 14,
   "metadata": {},
   "outputs": [],
   "source": [
    "for index, row in sbi_kvk.iterrows():\n",
    "    hoofdact = sbi_dict[row[\"C_HOOFDACT\"][:2]]\n",
    "    if isinstance(row[\"NEVEN1\"], str):\n",
    "        neven_1 = sbi_dict[row[\"NEVEN1\"][:2]]\n",
    "    else:\n",
    "        neven_1 = None\n",
    "    if isinstance(row[\"NEVEN2\"], str):\n",
    "        neven_2 = sbi_dict[row[\"NEVEN2\"][:2]]\n",
    "    else:\n",
    "        neven_2 = None\n",
    "    df = pd.DataFrame([[row[\"DOSSIER\"],row[\"VGNUMMER\"],hoofdact,neven_1,neven_2]],columns=sbi_kvk.columns)\n",
    "    sbi_kvk_encoded = sbi_kvk_encoded.append(df)"
   ]
  },
  {
   "cell_type": "code",
   "execution_count": 15,
   "metadata": {},
   "outputs": [],
   "source": [
    "sbi_kvk_encoded.to_csv(\"kvk_sbi_codes.csv\",index=None)"
   ]
  },
  {
   "cell_type": "code",
   "execution_count": null,
   "metadata": {},
   "outputs": [],
   "source": []
  }
 ],
 "metadata": {
  "kernelspec": {
   "display_name": "Python 3",
   "language": "python",
   "name": "python3"
  },
  "language_info": {
   "codemirror_mode": {
    "name": "ipython",
    "version": 3
   },
   "file_extension": ".py",
   "mimetype": "text/x-python",
   "name": "python",
   "nbconvert_exporter": "python",
   "pygments_lexer": "ipython3",
   "version": "3.7.4"
  }
 },
 "nbformat": 4,
 "nbformat_minor": 2
}
