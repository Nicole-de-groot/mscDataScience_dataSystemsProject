{
 "cells": [
  {
   "cell_type": "code",
   "execution_count": 35,
   "metadata": {},
   "outputs": [],
   "source": [
    "from urllib import request\n",
    "from bs4 import BeautifulSoup\n",
    "import pandas as pd\n",
    "import time"
   ]
  },
  {
   "cell_type": "code",
   "execution_count": 119,
   "metadata": {},
   "outputs": [],
   "source": [
    "def extract(kvknr):\n",
    "    url = \"https://companyinfo.nl/freemium/?externalSearch=\"+kvknr\n",
    "    html = request.urlopen(url).read().decode('utf8')\n",
    "    raw = BeautifulSoup(html, 'html.parser').get_text()\n",
    "    \n",
    "    new_url = ('/').join(raw[raw.find('seoUrl')+15:raw.find('resultAmount')-5].split('\\\\u002F'))\n",
    "    prefix = \"https://companyinfo.nl/organisatieprofiel/\"\n",
    "    new_html = request.urlopen(prefix+new_url).read().decode('utf8')\n",
    "    new_raw = BeautifulSoup(new_html, 'html.parser').get_text()\n",
    "    \n",
    "    reg_date = new_raw[new_raw.find('registrationDate')+19:new_raw.find('registrationDate')+29]\n",
    "    emp_class = new_raw[new_raw.find('employeeClass')+16:new_raw.find('employeeClass')+18]\n",
    "    \n",
    "    return reg_date, emp_class"
   ]
  },
  {
   "cell_type": "code",
   "execution_count": 118,
   "metadata": {},
   "outputs": [
    {
     "name": "stdout",
     "output_type": "stream",
     "text": [
      "registraion date:\t 14-12-1972\n",
      "employee class:\t\t 01\n"
     ]
    }
   ],
   "source": [
    "kvknr = '01036591'\n",
    "reg_date, emp_class = extract(kvknr)\n",
    "\n",
    "print('registraion date:\\t', reg_date)\n",
    "print('employee class:\\t\\t', emp_class)"
   ]
  },
  {
   "cell_type": "code",
   "execution_count": 112,
   "metadata": {},
   "outputs": [],
   "source": [
    "columns = [\"kvknr\",\"reg_date\",\"emp_class\"]\n",
    "kvk_processed = pd.DataFrame(columns=columns)"
   ]
  },
  {
   "cell_type": "code",
   "execution_count": 113,
   "metadata": {},
   "outputs": [
    {
     "name": "stdout",
     "output_type": "stream",
     "text": [
      "01016460\n",
      "01036591\n",
      "01038431\n",
      "01049319\n",
      "01056343\n",
      "01057929\n",
      "01059705\n",
      "01059721\n",
      "01073381\n",
      "01074543\n",
      "01075732\n",
      "01076443\n",
      "01077124\n",
      "01080805\n",
      "01083826\n",
      "01086273\n",
      "01087782\n",
      "01088698\n",
      "01089415\n",
      "01100930\n"
     ]
    },
    {
     "ename": "KeyboardInterrupt",
     "evalue": "",
     "output_type": "error",
     "traceback": [
      "\u001b[0;31m---------------------------------------------------------------------------\u001b[0m",
      "\u001b[0;31mKeyboardInterrupt\u001b[0m                         Traceback (most recent call last)",
      "\u001b[0;32m<ipython-input-113-6e909b56050f>\u001b[0m in \u001b[0;36m<module>\u001b[0;34m\u001b[0m\n\u001b[1;32m      8\u001b[0m         \u001b[0mprint\u001b[0m\u001b[0;34m(\u001b[0m\u001b[0mkvknr\u001b[0m\u001b[0;34m)\u001b[0m\u001b[0;34m\u001b[0m\u001b[0;34m\u001b[0m\u001b[0m\n\u001b[1;32m      9\u001b[0m         \u001b[0;32mif\u001b[0m \u001b[0mcounter\u001b[0m\u001b[0;34m%\u001b[0m\u001b[0;36m10\u001b[0m \u001b[0;34m==\u001b[0m \u001b[0;36m0\u001b[0m\u001b[0;34m:\u001b[0m\u001b[0;34m\u001b[0m\u001b[0;34m\u001b[0m\u001b[0m\n\u001b[0;32m---> 10\u001b[0;31m             \u001b[0mtime\u001b[0m\u001b[0;34m.\u001b[0m\u001b[0msleep\u001b[0m\u001b[0;34m(\u001b[0m\u001b[0;36m5\u001b[0m\u001b[0;34m)\u001b[0m\u001b[0;34m\u001b[0m\u001b[0;34m\u001b[0m\u001b[0m\n\u001b[0m\u001b[1;32m     11\u001b[0m         \u001b[0mreg_date\u001b[0m\u001b[0;34m,\u001b[0m \u001b[0memp_class\u001b[0m \u001b[0;34m=\u001b[0m \u001b[0mextract\u001b[0m\u001b[0;34m(\u001b[0m\u001b[0mkvknr\u001b[0m\u001b[0;34m)\u001b[0m\u001b[0;34m\u001b[0m\u001b[0;34m\u001b[0m\u001b[0m\n\u001b[1;32m     12\u001b[0m         \u001b[0mkvk_processed\u001b[0m \u001b[0;34m=\u001b[0m \u001b[0mkvk_processed\u001b[0m\u001b[0;34m.\u001b[0m\u001b[0mappend\u001b[0m\u001b[0;34m(\u001b[0m\u001b[0mpd\u001b[0m\u001b[0;34m.\u001b[0m\u001b[0mDataFrame\u001b[0m\u001b[0;34m(\u001b[0m\u001b[0;34m[\u001b[0m\u001b[0;34m[\u001b[0m\u001b[0mkvknr\u001b[0m\u001b[0;34m,\u001b[0m\u001b[0mreg_date\u001b[0m\u001b[0;34m,\u001b[0m\u001b[0memp_class\u001b[0m\u001b[0;34m]\u001b[0m\u001b[0;34m]\u001b[0m\u001b[0;34m,\u001b[0m\u001b[0mcolumns\u001b[0m\u001b[0;34m=\u001b[0m\u001b[0mcolumns\u001b[0m\u001b[0;34m)\u001b[0m\u001b[0;34m,\u001b[0m\u001b[0mignore_index\u001b[0m\u001b[0;34m=\u001b[0m\u001b[0;32mTrue\u001b[0m\u001b[0;34m)\u001b[0m\u001b[0;34m\u001b[0m\u001b[0;34m\u001b[0m\u001b[0m\n",
      "\u001b[0;31mKeyboardInterrupt\u001b[0m: "
     ]
    }
   ],
   "source": [
    "kvknr_dict = pd.read_csv(\"kvknr.csv\", header=None, dtype=str)\n",
    "kvknr_dict.columns = [\"kvknr\"]\n",
    "counter = 0\n",
    "\n",
    "for kvknr in kvknr_dict[\"kvknr\"]:\n",
    "    if kvknr not in kvk_processed[\"kvknr\"].to_list():\n",
    "        counter += 1\n",
    "        print(kvknr)\n",
    "        if counter%10 == 0:\n",
    "            time.sleep(5)\n",
    "        reg_date, emp_class = extract(kvknr)\n",
    "        kvk_processed = kvk_processed.append(pd.DataFrame([[kvknr,reg_date,emp_class]],columns=columns),ignore_index=True)"
   ]
  },
  {
   "cell_type": "code",
   "execution_count": 114,
   "metadata": {},
   "outputs": [
    {
     "data": {
      "text/html": [
       "<div>\n",
       "<style scoped>\n",
       "    .dataframe tbody tr th:only-of-type {\n",
       "        vertical-align: middle;\n",
       "    }\n",
       "\n",
       "    .dataframe tbody tr th {\n",
       "        vertical-align: top;\n",
       "    }\n",
       "\n",
       "    .dataframe thead th {\n",
       "        text-align: right;\n",
       "    }\n",
       "</style>\n",
       "<table border=\"1\" class=\"dataframe\">\n",
       "  <thead>\n",
       "    <tr style=\"text-align: right;\">\n",
       "      <th></th>\n",
       "      <th>kvknr</th>\n",
       "      <th>reg_date</th>\n",
       "      <th>emp_class</th>\n",
       "    </tr>\n",
       "  </thead>\n",
       "  <tbody>\n",
       "    <tr>\n",
       "      <th>0</th>\n",
       "      <td>01016460</td>\n",
       "      <td>21-05-2001</td>\n",
       "      <td>05</td>\n",
       "    </tr>\n",
       "    <tr>\n",
       "      <th>1</th>\n",
       "      <td>01036591</td>\n",
       "      <td>14-12-1972</td>\n",
       "      <td>01</td>\n",
       "    </tr>\n",
       "    <tr>\n",
       "      <th>2</th>\n",
       "      <td>01038431</td>\n",
       "      <td>14-12-1972</td>\n",
       "      <td>06</td>\n",
       "    </tr>\n",
       "    <tr>\n",
       "      <th>3</th>\n",
       "      <td>01049319</td>\n",
       "      <td>02-05-1983</td>\n",
       "      <td>04</td>\n",
       "    </tr>\n",
       "    <tr>\n",
       "      <th>4</th>\n",
       "      <td>01056343</td>\n",
       "      <td>23-03-1988</td>\n",
       "      <td>01</td>\n",
       "    </tr>\n",
       "    <tr>\n",
       "      <th>5</th>\n",
       "      <td>01057929</td>\n",
       "      <td>08-03-1989</td>\n",
       "      <td>01</td>\n",
       "    </tr>\n",
       "    <tr>\n",
       "      <th>6</th>\n",
       "      <td>01059705</td>\n",
       "      <td>22-03-1990</td>\n",
       "      <td>04</td>\n",
       "    </tr>\n",
       "    <tr>\n",
       "      <th>7</th>\n",
       "      <td>01059721</td>\n",
       "      <td>18-06-2007</td>\n",
       "      <td>01</td>\n",
       "    </tr>\n",
       "    <tr>\n",
       "      <th>8</th>\n",
       "      <td>01073381</td>\n",
       "      <td>14-12-1995</td>\n",
       "      <td>03</td>\n",
       "    </tr>\n",
       "    <tr>\n",
       "      <th>9</th>\n",
       "      <td>01074543</td>\n",
       "      <td>09-04-1996</td>\n",
       "      <td>06</td>\n",
       "    </tr>\n",
       "    <tr>\n",
       "      <th>10</th>\n",
       "      <td>01075732</td>\n",
       "      <td>04-09-1996</td>\n",
       "      <td>03</td>\n",
       "    </tr>\n",
       "    <tr>\n",
       "      <th>11</th>\n",
       "      <td>01076443</td>\n",
       "      <td>27-11-1996</td>\n",
       "      <td>04</td>\n",
       "    </tr>\n",
       "    <tr>\n",
       "      <th>12</th>\n",
       "      <td>01077124</td>\n",
       "      <td>06-02-1997</td>\n",
       "      <td>06</td>\n",
       "    </tr>\n",
       "    <tr>\n",
       "      <th>13</th>\n",
       "      <td>01080805</td>\n",
       "      <td>10-03-1998</td>\n",
       "      <td>03</td>\n",
       "    </tr>\n",
       "    <tr>\n",
       "      <th>14</th>\n",
       "      <td>01083826</td>\n",
       "      <td>09-02-1999</td>\n",
       "      <td>02</td>\n",
       "    </tr>\n",
       "    <tr>\n",
       "      <th>15</th>\n",
       "      <td>01086273</td>\n",
       "      <td>15-10-1999</td>\n",
       "      <td>03</td>\n",
       "    </tr>\n",
       "    <tr>\n",
       "      <th>16</th>\n",
       "      <td>01087782</td>\n",
       "      <td>24-02-2000</td>\n",
       "      <td>04</td>\n",
       "    </tr>\n",
       "    <tr>\n",
       "      <th>17</th>\n",
       "      <td>01088698</td>\n",
       "      <td>08-05-2000</td>\n",
       "      <td>01</td>\n",
       "    </tr>\n",
       "    <tr>\n",
       "      <th>18</th>\n",
       "      <td>01089415</td>\n",
       "      <td>20-07-2000</td>\n",
       "      <td>02</td>\n",
       "    </tr>\n",
       "  </tbody>\n",
       "</table>\n",
       "</div>"
      ],
      "text/plain": [
       "       kvknr    reg_date emp_class\n",
       "0   01016460  21-05-2001        05\n",
       "1   01036591  14-12-1972        01\n",
       "2   01038431  14-12-1972        06\n",
       "3   01049319  02-05-1983        04\n",
       "4   01056343  23-03-1988        01\n",
       "5   01057929  08-03-1989        01\n",
       "6   01059705  22-03-1990        04\n",
       "7   01059721  18-06-2007        01\n",
       "8   01073381  14-12-1995        03\n",
       "9   01074543  09-04-1996        06\n",
       "10  01075732  04-09-1996        03\n",
       "11  01076443  27-11-1996        04\n",
       "12  01077124  06-02-1997        06\n",
       "13  01080805  10-03-1998        03\n",
       "14  01083826  09-02-1999        02\n",
       "15  01086273  15-10-1999        03\n",
       "16  01087782  24-02-2000        04\n",
       "17  01088698  08-05-2000        01\n",
       "18  01089415  20-07-2000        02"
      ]
     },
     "execution_count": 114,
     "metadata": {},
     "output_type": "execute_result"
    }
   ],
   "source": [
    "kvk_processed"
   ]
  },
  {
   "cell_type": "code",
   "execution_count": 87,
   "metadata": {},
   "outputs": [],
   "source": [
    "kvk_processed = kvk_processed.append(pd.DataFrame([[\"1234\",\"21-02-1990\",\"05\"]],columns=columns),ignore_index=True)"
   ]
  },
  {
   "cell_type": "code",
   "execution_count": 88,
   "metadata": {},
   "outputs": [
    {
     "data": {
      "text/html": [
       "<div>\n",
       "<style scoped>\n",
       "    .dataframe tbody tr th:only-of-type {\n",
       "        vertical-align: middle;\n",
       "    }\n",
       "\n",
       "    .dataframe tbody tr th {\n",
       "        vertical-align: top;\n",
       "    }\n",
       "\n",
       "    .dataframe thead th {\n",
       "        text-align: right;\n",
       "    }\n",
       "</style>\n",
       "<table border=\"1\" class=\"dataframe\">\n",
       "  <thead>\n",
       "    <tr style=\"text-align: right;\">\n",
       "      <th></th>\n",
       "      <th>kvknr</th>\n",
       "      <th>reg_date</th>\n",
       "      <th>emp_class</th>\n",
       "    </tr>\n",
       "  </thead>\n",
       "  <tbody>\n",
       "    <tr>\n",
       "      <th>0</th>\n",
       "      <td>1234</td>\n",
       "      <td>21-02-1990</td>\n",
       "      <td>05</td>\n",
       "    </tr>\n",
       "    <tr>\n",
       "      <th>1</th>\n",
       "      <td>1234</td>\n",
       "      <td>21-02-1990</td>\n",
       "      <td>05</td>\n",
       "    </tr>\n",
       "  </tbody>\n",
       "</table>\n",
       "</div>"
      ],
      "text/plain": [
       "  kvknr    reg_date emp_class\n",
       "0  1234  21-02-1990        05\n",
       "1  1234  21-02-1990        05"
      ]
     },
     "execution_count": 88,
     "metadata": {},
     "output_type": "execute_result"
    }
   ],
   "source": [
    "kvk_processed.append(pd.DataFrame([[\"1234\",\"21-02-1990\",\"05\"]],columns=columns),ignore_index=True)"
   ]
  },
  {
   "cell_type": "code",
   "execution_count": 91,
   "metadata": {},
   "outputs": [
    {
     "data": {
      "text/plain": [
       "True"
      ]
     },
     "execution_count": 91,
     "metadata": {},
     "output_type": "execute_result"
    }
   ],
   "source": [
    "\"1234\" in kvk_processed[\"kvknr\"].to_list()"
   ]
  },
  {
   "cell_type": "code",
   "execution_count": null,
   "metadata": {},
   "outputs": [],
   "source": []
  }
 ],
 "metadata": {
  "kernelspec": {
   "display_name": "Python 3",
   "language": "python",
   "name": "python3"
  },
  "language_info": {
   "codemirror_mode": {
    "name": "ipython",
    "version": 3
   },
   "file_extension": ".py",
   "mimetype": "text/x-python",
   "name": "python",
   "nbconvert_exporter": "python",
   "pygments_lexer": "ipython3",
   "version": "3.7.4"
  }
 },
 "nbformat": 4,
 "nbformat_minor": 2
}
