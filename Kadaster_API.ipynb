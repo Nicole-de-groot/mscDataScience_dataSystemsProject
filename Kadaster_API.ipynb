{
 "cells": [
  {
   "cell_type": "code",
   "execution_count": 17,
   "metadata": {},
   "outputs": [],
   "source": [
    "import json\n",
    "import pandas as pd\n",
    "import requests\n",
    "import os"
   ]
  },
  {
   "cell_type": "code",
   "execution_count": 10,
   "metadata": {},
   "outputs": [],
   "source": [
    "VA = pd.read_csv(\"VA_addresses.csv\").drop(columns=[\"Unnamed: 0\"])"
   ]
  },
  {
   "cell_type": "code",
   "execution_count": 11,
   "metadata": {},
   "outputs": [
    {
     "data": {
      "text/html": [
       "<div>\n",
       "<style scoped>\n",
       "    .dataframe tbody tr th:only-of-type {\n",
       "        vertical-align: middle;\n",
       "    }\n",
       "\n",
       "    .dataframe tbody tr th {\n",
       "        vertical-align: top;\n",
       "    }\n",
       "\n",
       "    .dataframe thead th {\n",
       "        text-align: right;\n",
       "    }\n",
       "</style>\n",
       "<table border=\"1\" class=\"dataframe\">\n",
       "  <thead>\n",
       "    <tr style=\"text-align: right;\">\n",
       "      <th></th>\n",
       "      <th>HUISNR</th>\n",
       "      <th>PC</th>\n",
       "    </tr>\n",
       "  </thead>\n",
       "  <tbody>\n",
       "    <tr>\n",
       "      <th>225</th>\n",
       "      <td>104</td>\n",
       "      <td>8448GW</td>\n",
       "    </tr>\n",
       "  </tbody>\n",
       "</table>\n",
       "</div>"
      ],
      "text/plain": [
       "     HUISNR      PC\n",
       "225     104  8448GW"
      ]
     },
     "execution_count": 11,
     "metadata": {},
     "output_type": "execute_result"
    }
   ],
   "source": [
    "VA.loc[VA['PC'] == \"8448GW\"]"
   ]
  },
  {
   "cell_type": "code",
   "execution_count": 14,
   "metadata": {},
   "outputs": [],
   "source": [
    "VA_test = VA[224:227]"
   ]
  },
  {
   "cell_type": "code",
   "execution_count": 15,
   "metadata": {},
   "outputs": [
    {
     "data": {
      "text/html": [
       "<div>\n",
       "<style scoped>\n",
       "    .dataframe tbody tr th:only-of-type {\n",
       "        vertical-align: middle;\n",
       "    }\n",
       "\n",
       "    .dataframe tbody tr th {\n",
       "        vertical-align: top;\n",
       "    }\n",
       "\n",
       "    .dataframe thead th {\n",
       "        text-align: right;\n",
       "    }\n",
       "</style>\n",
       "<table border=\"1\" class=\"dataframe\">\n",
       "  <thead>\n",
       "    <tr style=\"text-align: right;\">\n",
       "      <th></th>\n",
       "      <th>HUISNR</th>\n",
       "      <th>PC</th>\n",
       "    </tr>\n",
       "  </thead>\n",
       "  <tbody>\n",
       "    <tr>\n",
       "      <th>224</th>\n",
       "      <td>209</td>\n",
       "      <td>8096BJ</td>\n",
       "    </tr>\n",
       "    <tr>\n",
       "      <th>225</th>\n",
       "      <td>104</td>\n",
       "      <td>8448GW</td>\n",
       "    </tr>\n",
       "    <tr>\n",
       "      <th>226</th>\n",
       "      <td>2</td>\n",
       "      <td>8448CN</td>\n",
       "    </tr>\n",
       "  </tbody>\n",
       "</table>\n",
       "</div>"
      ],
      "text/plain": [
       "     HUISNR      PC\n",
       "224     209  8096BJ\n",
       "225     104  8448GW\n",
       "226       2  8448CN"
      ]
     },
     "execution_count": 15,
     "metadata": {},
     "output_type": "execute_result"
    }
   ],
   "source": [
    "VA_test"
   ]
  },
  {
   "cell_type": "code",
   "execution_count": 25,
   "metadata": {},
   "outputs": [],
   "source": [
    "columns = [\"huisnummer\",\"postcode\",\"nrAanduiding\",\"vblObject\",\"inOnderzoek\"]\n",
    "if os.path.isfile(\"kadaster_ids.csv\"):\n",
    "    kadaster_ids = pd.read_csv(\"kadaster_ids.csv\",dtype=object)\n",
    "else:\n",
    "    kadaster_ids = pd.DataFrame(columns=columns)"
   ]
  },
  {
   "cell_type": "code",
   "execution_count": 30,
   "metadata": {},
   "outputs": [
    {
     "data": {
      "text/html": [
       "<div>\n",
       "<style scoped>\n",
       "    .dataframe tbody tr th:only-of-type {\n",
       "        vertical-align: middle;\n",
       "    }\n",
       "\n",
       "    .dataframe tbody tr th {\n",
       "        vertical-align: top;\n",
       "    }\n",
       "\n",
       "    .dataframe thead th {\n",
       "        text-align: right;\n",
       "    }\n",
       "</style>\n",
       "<table border=\"1\" class=\"dataframe\">\n",
       "  <thead>\n",
       "    <tr style=\"text-align: right;\">\n",
       "      <th></th>\n",
       "      <th>huisnummer</th>\n",
       "      <th>postcode</th>\n",
       "      <th>nrAanduiding</th>\n",
       "      <th>vblObject</th>\n",
       "      <th>inOnderzoek</th>\n",
       "    </tr>\n",
       "  </thead>\n",
       "  <tbody>\n",
       "    <tr>\n",
       "      <th>0</th>\n",
       "      <td>209</td>\n",
       "      <td>8096BJ</td>\n",
       "      <td>0269200000008628</td>\n",
       "      <td>0269010000008628</td>\n",
       "      <td>False</td>\n",
       "    </tr>\n",
       "    <tr>\n",
       "      <th>0</th>\n",
       "      <td>2</td>\n",
       "      <td>8448CN</td>\n",
       "      <td>0074200000373763</td>\n",
       "      <td>0074010000373764</td>\n",
       "      <td>False</td>\n",
       "    </tr>\n",
       "  </tbody>\n",
       "</table>\n",
       "</div>"
      ],
      "text/plain": [
       "  huisnummer postcode      nrAanduiding         vblObject inOnderzoek\n",
       "0        209   8096BJ  0269200000008628  0269010000008628       False\n",
       "0          2   8448CN  0074200000373763  0074010000373764       False"
      ]
     },
     "execution_count": 30,
     "metadata": {},
     "output_type": "execute_result"
    }
   ],
   "source": [
    "kadaster_ids"
   ]
  },
  {
   "cell_type": "code",
   "execution_count": 27,
   "metadata": {},
   "outputs": [],
   "source": [
    "def getResponse(PC, HUISNR):\n",
    "    url = \"https://bag.basisregistraties.overheid.nl/api/v1/nummeraanduidingen?postcode={}&huisnummer={}\".format(PC,HUISNR)\n",
    "\n",
    "    payload = {}\n",
    "    headers = {\n",
    "      'x-api-key': '593f1c08-4eac-4f5b-8a35-59d64883e2b2'\n",
    "    }\n",
    "\n",
    "    response = requests.request(\"GET\", url, headers=headers, data = payload)\n",
    "    return response"
   ]
  },
  {
   "cell_type": "code",
   "execution_count": 28,
   "metadata": {},
   "outputs": [],
   "source": [
    "def getInfo(json_response):\n",
    "    huisnummer = json_response[\"_embedded\"][\"nummeraanduidingen\"][0][\"huisnummer\"]\n",
    "    postcode = json_response[\"_embedded\"][\"nummeraanduidingen\"][0][\"postcode\"]\n",
    "    nrAanduiding = json_response[\"_embedded\"][\"nummeraanduidingen\"][0][\"identificatiecode\"]\n",
    "    vblObject = json_response[\"_embedded\"][\"nummeraanduidingen\"][0][\"_links\"][\"adresseerbaarObject\"][\"href\"].rpartition(\"/\")[-1]\n",
    "    inOnderzoek = json_response[\"_embedded\"][\"nummeraanduidingen\"][0][\"_embedded\"][\"geldigVoorkomen\"][\"inOnderzoek\"]\n",
    "    \n",
    "    df = pd.DataFrame(data = [[huisnummer,postcode,nrAanduiding,vblObject,inOnderzoek]],columns=columns)\n",
    "    return df"
   ]
  },
  {
   "cell_type": "code",
   "execution_count": 29,
   "metadata": {
    "scrolled": true
   },
   "outputs": [
    {
     "name": "stdout",
     "output_type": "stream",
     "text": [
      "out of range\n"
     ]
    }
   ],
   "source": [
    "for index, row in VA_test.iterrows():\n",
    "    HUISNR = row[\"HUISNR\"]\n",
    "    PC = row[\"PC\"]\n",
    "    response = getResponse(PC, HUISNR)\n",
    "    json_response = json.loads(response.text)\n",
    "    try: \n",
    "        kadaster_ids = kadaster_ids.append(getInfo(json_response))\n",
    "    except IndexError:\n",
    "        print(\"out of range\")"
   ]
  },
  {
   "cell_type": "code",
   "execution_count": 69,
   "metadata": {},
   "outputs": [],
   "source": [
    "kadaster_ids.to_csv(\"kadaster_ids.csv\", index=None)"
   ]
  },
  {
   "cell_type": "raw",
   "metadata": {},
   "source": [
    "print(json_response[\"_embedded\"][\"nummeraanduidingen\"][0][\"huisnummer\"])\n",
    "print(json_response[\"_embedded\"][\"nummeraanduidingen\"][0][\"postcode\"])\n",
    "print(json_response[\"_embedded\"][\"nummeraanduidingen\"][0][\"identificatiecode\"])\n",
    "print(json_response[\"_embedded\"][\"nummeraanduidingen\"][0][\"_links\"][\"adresseerbaarObject\"][\"href\"].rpartition(\"/\")[-1])\n",
    "print(json_response[\"_embedded\"][\"nummeraanduidingen\"][0][\"_embedded\"][\"geldigVoorkomen\"][\"inOnderzoek\"])"
   ]
  }
 ],
 "metadata": {
  "kernelspec": {
   "display_name": "Python 3",
   "language": "python",
   "name": "python3"
  },
  "language_info": {
   "codemirror_mode": {
    "name": "ipython",
    "version": 3
   },
   "file_extension": ".py",
   "mimetype": "text/x-python",
   "name": "python",
   "nbconvert_exporter": "python",
   "pygments_lexer": "ipython3",
   "version": "3.7.4"
  }
 },
 "nbformat": 4,
 "nbformat_minor": 2
}
