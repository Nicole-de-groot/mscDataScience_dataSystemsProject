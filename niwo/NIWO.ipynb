{
 "cells": [
  {
   "cell_type": "code",
   "execution_count": null,
   "metadata": {},
   "outputs": [],
   "source": [
    "import json\n",
    "import pandas as pd"
   ]
  },
  {
   "cell_type": "code",
   "execution_count": null,
   "metadata": {},
   "outputs": [],
   "source": [
    "#laad niwo data als json\n",
    "with open('niwo_raw.txt', 'r') as f:\n",
    "    niwo = json.load(f)"
   ]
  },
  {
   "cell_type": "code",
   "execution_count": null,
   "metadata": {},
   "outputs": [],
   "source": [
    "#keys van de json: rows is de data\n",
    "print (niwo.keys())\n",
    "print (\"nr of rows:\",len(niwo['rows']))"
   ]
  },
  {
   "cell_type": "code",
   "execution_count": null,
   "metadata": {},
   "outputs": [],
   "source": [
    "#geeft eerste resultaat\n",
    "niwo['rows'][0]"
   ]
  },
  {
   "cell_type": "code",
   "execution_count": null,
   "metadata": {},
   "outputs": [],
   "source": [
    "#keys van een resultaat\n",
    "niwo['rows'][0].keys()"
   ]
  },
  {
   "cell_type": "code",
   "execution_count": null,
   "metadata": {},
   "outputs": [],
   "source": [
    "#voorbeeld resultaat: de gegevens die we willen\n",
    "print (niwo['rows'][0]['bronkvknummergeadresseerde'])\n",
    "print (niwo['rows'][0]['bronorganisatienaam'])\n",
    "\n",
    "#postcode blijkt niet altijd voor te komen, maar is misschien ook niet al te relevant\n",
    "print (niwo['rows'][0]['bronpostcode'])"
   ]
  },
  {
   "cell_type": "code",
   "execution_count": null,
   "metadata": {},
   "outputs": [],
   "source": [
    "#leeg dataframe\n",
    "niwo_dict = pd.DataFrame(columns=[\"kvk_nummer\",\"bedrijfsnaam\"])"
   ]
  },
  {
   "cell_type": "code",
   "execution_count": null,
   "metadata": {},
   "outputs": [],
   "source": [
    "#loop over resultaten (rows) en extract kvk nummer en naam\n",
    "for row in niwo['rows']:\n",
    "    if row['bronkvknummergeadresseerde'].isdigit():\n",
    "        if len(row['bronkvknummergeadresseerde'])==8:\n",
    "            niwo_temp = pd.DataFrame(data = [[row['bronkvknummergeadresseerde'], row['bronorganisatienaam']]], columns=[\"kvk_nummer\",\"bedrijfsnaam\"])\n",
    "            niwo_dict = niwo_dict.append(niwo_temp)"
   ]
  },
  {
   "cell_type": "code",
   "execution_count": null,
   "metadata": {},
   "outputs": [],
   "source": [
    "#sla resultaat op\n",
    "niwo_dict.to_csv(\"niwo_dict.csv\", index=None)"
   ]
  }
 ],
 "metadata": {
  "kernelspec": {
   "display_name": "Python 3",
   "language": "python",
   "name": "python3"
  },
  "language_info": {
   "codemirror_mode": {
    "name": "ipython",
    "version": 3
   },
   "file_extension": ".py",
   "mimetype": "text/x-python",
   "name": "python",
   "nbconvert_exporter": "python",
   "pygments_lexer": "ipython3",
   "version": "3.7.4"
  }
 },
 "nbformat": 4,
 "nbformat_minor": 2
}
