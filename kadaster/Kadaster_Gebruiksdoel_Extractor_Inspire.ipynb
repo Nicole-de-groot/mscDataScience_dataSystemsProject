{
 "cells": [
  {
   "cell_type": "code",
   "execution_count": null,
   "metadata": {},
   "outputs": [],
   "source": [
    "import pandas as pd\n",
    "from xml.dom import minidom\n",
    "import pickle\n",
    "import os\n",
    "import glob"
   ]
  },
  {
   "cell_type": "code",
   "execution_count": null,
   "metadata": {},
   "outputs": [],
   "source": [
    "#open files als deze al aanwezig zijn (om duplicatie/overwriting te voorkomen)\n",
    "kadaster_vbObject = \"kadaster_vbObject\"\n",
    "columns = [\"vblObject\",\"gebruiksdoel\",\"oppervlakte\",\"vbloStatus\"]\n",
    "if os.path.isfile(kadaster_vbObject + \".csv\"):\n",
    "    kadaster = pd.read_csv(kadaster_vbObject + \".csv\")\n",
    "else: kadaster = pd.DataFrame(columns=columns)\n",
    "\n",
    "checkedVBO = \"checkedVBOfiles\"\n",
    "if os.path.isfile(checkedVBO + \".p\"):\n",
    "    with open(checkedVBO + \".p\", 'rb') as fp:\n",
    "        checkedVBOfiles = pickle.load(fp)\n",
    "else: checkedVBOfiles = []\n",
    "    \n",
    "kadaster_ids = pd.read_csv(\"kadaster_ids.csv\", dtype = object)"
   ]
  },
  {
   "cell_type": "code",
   "execution_count": null,
   "metadata": {},
   "outputs": [],
   "source": [
    "#gecheckted files\n",
    "checkedVBOfiles"
   ]
  },
  {
   "cell_type": "code",
   "execution_count": null,
   "metadata": {},
   "outputs": [],
   "source": [
    "#kadaster_ids extracted vanuit de API\n",
    "kadaster_ids.head()"
   ]
  },
  {
   "cell_type": "code",
   "execution_count": null,
   "metadata": {},
   "outputs": [],
   "source": [
    "nr_ids = len(kadaster_ids)\n",
    "start_len = len(kadaster)\n",
    "\n",
    "print(\"aantal kadaster ids:\",nr_ids)\n",
    "print(\"tot nu toe gevonden aantal verblijfsobjecten:\",start_len)"
   ]
  },
  {
   "cell_type": "code",
   "execution_count": null,
   "metadata": {},
   "outputs": [],
   "source": [
    "#verblijfobject (VBO) files\n",
    "prefix = \"9999VBO08112019/\"\n",
    "cut = len(prefix)\n",
    "files = glob.glob(prefix+\"*xml\")"
   ]
  },
  {
   "cell_type": "code",
   "execution_count": null,
   "metadata": {},
   "outputs": [],
   "source": [
    "#maak itererende lijst (in py script is dit een loop)\n",
    "i = iter(files)"
   ]
  },
  {
   "cell_type": "code",
   "execution_count": null,
   "metadata": {},
   "outputs": [],
   "source": [
    "#neem volgende file (py loop)\n",
    "currentfile = next(i)\n",
    "while currentfile[cut:] in checkedVBOfiles:\n",
    "    print(currentfile,\"\\talready checked\")\n",
    "    currentfile = next(i)\n",
    "print(\"locatienaam:\\t\",currentfile)\n",
    "print(\"filenaam:\\t\", currentfile[cut:])"
   ]
  },
  {
   "cell_type": "code",
   "execution_count": null,
   "metadata": {},
   "outputs": [],
   "source": [
    "#extract informatie vanuit de files (py loop)\n",
    "def checkfile(currentfile):\n",
    "    mydoc = minidom.parse(currentfile)\n",
    "    items = mydoc.getElementsByTagName(\"bag_LVC:Verblijfsobject\")\n",
    "    vbCurrentFile = pd.DataFrame(columns = columns)\n",
    "    for item in items:\n",
    "        for child in item.childNodes:\n",
    "            if child.nodeName[8:] == 'identificatie':\n",
    "                id = child.firstChild.nodeValue\n",
    "            elif child.nodeName[8:] == 'gebruiksdoelVerblijfsobject':\n",
    "                gebruiksdoel = child.firstChild.nodeValue\n",
    "            elif child.nodeName[8:] == 'oppervlakteVerblijfsobject':\n",
    "                oppervlakte = child.firstChild.nodeValue\n",
    "            elif child.nodeName[8:] == 'verblijfsobjectStatus':\n",
    "                status = child.firstChild.nodeValue[16:]\n",
    "        if kadaster_ids.where((kadaster_ids[\"vblObject\"] == id)).dropna().empty == False:\n",
    "            vbObject = pd.DataFrame(data = [[id,gebruiksdoel,oppervlakte,status]], columns=columns)\n",
    "            vbCurrentFile = vbCurrentFile.append(vbObject)\n",
    "    return vbCurrentFile"
   ]
  },
  {
   "cell_type": "code",
   "execution_count": null,
   "metadata": {},
   "outputs": [],
   "source": [
    "%%time\n",
    "#ongeveer 1-1.5 minuut per file\n",
    "\n",
    "#check currentfile (py loop)\n",
    "vbObject = checkfile(currentfile)\n",
    "\n",
    "#als er nieuwe informatie gevonden is, dit toevoegen aan dataframe\n",
    "if not vbObject.empty:\n",
    "    kadaster = kadaster.append(vbObject)"
   ]
  },
  {
   "cell_type": "code",
   "execution_count": null,
   "metadata": {},
   "outputs": [],
   "source": [
    "for currentfile in files:\n",
    "    print(currentfile[cut:])\n",
    "    if currentfile[cut:] not in checkedVBOfiles:\n",
    "        vbObject = checkfile(currentfile)\n",
    "        if not vbObject.empty:\n",
    "            kadaster = kadaster.append(vbObject)\n",
    "    else: print(\"already checked\")\n",
    "    if len(kadaster) > start_len:\n",
    "        print(\"found\",len(kadaster)-start_len,\"new ids -\",len(kadaster),\"of\",nr_ids,\"found\")\n",
    "        kadaster.to_csv(kadaster_vbObject + \".csv\", index = None)\n",
    "        start_len = len(kadaster)\n",
    "    else: print(\"no new items found\")\n",
    "\n",
    "    checkedVBOfiles.append(currentfile)\n",
    "    with open(checkedVBO + '.p', 'wb') as fp:\n",
    "        pickle.dump(checkedVBOfiles, fp)\n",
    "\n",
    "    if len(kadaster) == nr_ids:\n",
    "        sys.exit()\n",
    "                   "
   ]
  },
  {
   "cell_type": "code",
   "execution_count": null,
   "metadata": {},
   "outputs": [],
   "source": [
    "#sla checked file lijst op\n",
    "checkedVBOfiles.append(currentfile[cut:])\n",
    "with open(checkedVBO + '.p', 'wb') as fp:\n",
    "        pickle.dump(checkedVBOfiles, fp)"
   ]
  },
  {
   "cell_type": "code",
   "execution_count": null,
   "metadata": {},
   "outputs": [],
   "source": [
    "#sla kadaster gegevens op\n",
    "kadaster.to_csv(kadaster_vbObject + \".csv\", index = None)"
   ]
  }
 ],
 "metadata": {
  "kernelspec": {
   "display_name": "Python 3",
   "language": "python",
   "name": "python3"
  },
  "language_info": {
   "codemirror_mode": {
    "name": "ipython",
    "version": 3
   },
   "file_extension": ".py",
   "mimetype": "text/x-python",
   "name": "python",
   "nbconvert_exporter": "python",
   "pygments_lexer": "ipython3",
   "version": "3.7.4"
  }
 },
 "nbformat": 4,
 "nbformat_minor": 2
}
