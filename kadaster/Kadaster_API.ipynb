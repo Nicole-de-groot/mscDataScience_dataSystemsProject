{
 "cells": [
  {
   "cell_type": "markdown",
   "metadata": {},
   "source": [
    "### Dit script is hetzelfde als kadasterAPI.py"
   ]
  },
  {
   "cell_type": "code",
   "execution_count": null,
   "metadata": {},
   "outputs": [],
   "source": [
    "import json\n",
    "import pandas as pd\n",
    "import requests\n",
    "import os"
   ]
  },
  {
   "cell_type": "code",
   "execution_count": null,
   "metadata": {},
   "outputs": [],
   "source": [
    "prefix = \"../\"\n",
    "filename = \"VA_addresses.csv\""
   ]
  },
  {
   "cell_type": "code",
   "execution_count": null,
   "metadata": {},
   "outputs": [],
   "source": [
    "#open vestigingadressen dataframe\n",
    "addresses = pd.read_csv(prefix + filename)"
   ]
  },
  {
   "cell_type": "code",
   "execution_count": null,
   "metadata": {},
   "outputs": [],
   "source": [
    "#kadaster_id dataframe - als deze al bestaat wordt deze geopend\n",
    "columns = [\"huisnummer\",\"postcode\",\"nrAanduiding\",\"vblObject\",\"inOnderzoek\"]\n",
    "if os.path.isfile(\"kadaster_ids.csv\"):\n",
    "    kadaster_ids = pd.read_csv(\"kadaster_ids.csv\",dtype=object)\n",
    "else:\n",
    "    kadaster_ids = pd.DataFrame(columns=columns)"
   ]
  },
  {
   "cell_type": "code",
   "execution_count": null,
   "metadata": {},
   "outputs": [],
   "source": [
    "#BAG Kadaster API\n",
    "def getResponse(PC, HUISNR):\n",
    "    url = \"https://bag.basisregistraties.overheid.nl/api/v1/nummeraanduidingen?postcode={}&huisnummer={}\".format(PC,HUISNR)\n",
    "\n",
    "    payload = {}\n",
    "    headers = {\n",
    "      'x-api-key': '593f1c08-4eac-4f5b-8a35-59d64883e2b2'\n",
    "    }\n",
    "\n",
    "    response = requests.request(\"GET\", url, headers=headers, data = payload)\n",
    "    return response"
   ]
  },
  {
   "cell_type": "code",
   "execution_count": null,
   "metadata": {},
   "outputs": [],
   "source": [
    "#extract informatie\n",
    "def getInfo(json_response):\n",
    "    huisnummer = json_response[\"_embedded\"][\"nummeraanduidingen\"][0][\"huisnummer\"]\n",
    "    postcode = json_response[\"_embedded\"][\"nummeraanduidingen\"][0][\"postcode\"]\n",
    "    nrAanduiding = json_response[\"_embedded\"][\"nummeraanduidingen\"][0][\"identificatiecode\"]\n",
    "    vblObject = json_response[\"_embedded\"][\"nummeraanduidingen\"][0][\"_links\"][\"adresseerbaarObject\"][\"href\"].rpartition(\"/\")[-1]\n",
    "    inOnderzoek = json_response[\"_embedded\"][\"nummeraanduidingen\"][0][\"_embedded\"][\"geldigVoorkomen\"][\"inOnderzoek\"]\n",
    "    \n",
    "    df = pd.DataFrame(data = [[huisnummer,postcode,nrAanduiding,vblObject,inOnderzoek]],columns=columns)\n",
    "    return df"
   ]
  },
  {
   "cell_type": "code",
   "execution_count": null,
   "metadata": {},
   "outputs": [],
   "source": [
    "#loop over (vestigings)adressen\n",
    "for index, row in addresses.iterrows():\n",
    "    HUISNR = row[\"HUISNR\"]\n",
    "    PC = row[\"PC\"]\n",
    "    if not kadaster_ids.where((kadaster_ids[\"huisnummer\"]==HUISNR) & (kadaster_ids[\"postcode\"] == PC)).dropna().empty:\n",
    "        response = getResponse(PC, HUISNR)\n",
    "        json_response = json.loads(response.text)\n",
    "        try: \n",
    "            kadaster_ids = kadaster_ids.append(getInfo(json_response))\n",
    "        #except wanneer de adressen niet te vinden zijn\n",
    "        except (IndexError,KeyError):\n",
    "            continue"
   ]
  },
  {
   "cell_type": "code",
   "execution_count": null,
   "metadata": {},
   "outputs": [],
   "source": [
    "#sla kadaster_ids op voor vervolg script\n",
    "kadaster_ids.to_csv(\"kadaster_ids.csv\", index=None)"
   ]
  }
 ],
 "metadata": {
  "kernelspec": {
   "display_name": "Python 3",
   "language": "python",
   "name": "python3"
  },
  "language_info": {
   "codemirror_mode": {
    "name": "ipython",
    "version": 3
   },
   "file_extension": ".py",
   "mimetype": "text/x-python",
   "name": "python",
   "nbconvert_exporter": "python",
   "pygments_lexer": "ipython3",
   "version": "3.7.4"
  }
 },
 "nbformat": 4,
 "nbformat_minor": 2
}
