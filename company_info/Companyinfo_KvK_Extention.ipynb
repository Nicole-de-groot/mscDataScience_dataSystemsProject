{
 "cells": [
  {
   "cell_type": "code",
   "execution_count": 1,
   "metadata": {},
   "outputs": [],
   "source": [
    "from urllib import request\n",
    "from bs4 import BeautifulSoup\n",
    "import pandas as pd\n",
    "import time\n",
    "import os\n",
    "import pickle"
   ]
  },
  {
   "cell_type": "code",
   "execution_count": 2,
   "metadata": {},
   "outputs": [],
   "source": [
    "#kvk-nummers die niet werken\n",
    "if os.path.isfile(\"kvk_companyinfo_skip\" + \".p\"):\n",
    "    with open(\"kvk_companyinfo_skip\" + \".p\", 'rb') as fp:\n",
    "        skip = pickle.load(fp)\n",
    "else: skip = []"
   ]
  },
  {
   "cell_type": "code",
   "execution_count": 3,
   "metadata": {},
   "outputs": [],
   "source": [
    "#processed kvk-nummers (in het geval van een restart van de run om duplicates the voorkomen)\n",
    "if os.path.isfile(\"kvk_companyinfo.csv\"):\n",
    "    kvk_processed = pd.read_csv(\"kvk_companyinfo.csv\",dtype=object)\n",
    "else:\n",
    "    columns = [\"kvknr\",\"reg_date\",\"emp_class\"]\n",
    "    kvk_processed = pd.DataFrame(columns=columns)"
   ]
  },
  {
   "cell_type": "code",
   "execution_count": 4,
   "metadata": {},
   "outputs": [],
   "source": [
    "#extract de informatie van companyinfo op basis van het kvk-nummer\n",
    "def extract(kvknr):\n",
    "    global skip\n",
    "    \n",
    "    #zoek functie om het bedrijf te vinden van het kvk-nummer\n",
    "    url = \"https://companyinfo.nl/freemium/?externalSearch=\"+kvknr\n",
    "    html = request.urlopen(url).read().decode('utf8')\n",
    "    raw = BeautifulSoup(html, 'html.parser').get_text()\n",
    "    \n",
    "    #vind de link naar het bedrijf en extract de informatie    \n",
    "    if raw.find('seoUrl') > 0:\n",
    "        new_url = ('/').join(raw[raw.find('seoUrl')+15:raw.find('resultAmount')-5].split('\\\\u002F'))\n",
    "        prefix = \"https://companyinfo.nl/organisatieprofiel/\"\n",
    "        new_html = request.urlopen(prefix+new_url).read().decode('utf8')\n",
    "        new_raw = BeautifulSoup(new_html, 'html.parser').get_text()\n",
    "\n",
    "        reg_date = new_raw[new_raw.find('registrationDate')+19:new_raw.find('registrationDate')+29]\n",
    "        emp_class = new_raw[new_raw.find('employeeClass')+16:new_raw.find('employeeClass')+18]\n",
    "        return reg_date, emp_class\n",
    "    else:\n",
    "        skip.append(kvknr)\n",
    "        return None, None"
   ]
  },
  {
   "cell_type": "code",
   "execution_count": 5,
   "metadata": {},
   "outputs": [
    {
     "name": "stdout",
     "output_type": "stream",
     "text": [
      "registraion date:\t 14-12-1972\n",
      "employee class:\t\t 01\n"
     ]
    }
   ],
   "source": [
    "#voorbeeld\n",
    "kvknr = '01036591'\n",
    "reg_date, emp_class = extract(kvknr)\n",
    "\n",
    "print('registraion date:\\t', reg_date)\n",
    "print('employee class:\\t\\t', emp_class)"
   ]
  },
  {
   "cell_type": "code",
   "execution_count": null,
   "metadata": {},
   "outputs": [],
   "source": [
    "#dataset net kvk-nummers uit de kvk-dataset\n",
    "kvknr_dict = pd.read_csv(\"../kvk/kvknr.csv\", header=None, dtype=str)\n",
    "kvknr_dict.columns = [\"kvknr\"]"
   ]
  },
  {
   "cell_type": "code",
   "execution_count": 6,
   "metadata": {},
   "outputs": [],
   "source": [
    "#loop over alle kvk-nummers en extract de informatie van companyinfo\n",
    "#kvk-nummers in skip geven geen resultaten bij companyinfo\n",
    "#sleep is toegevoegd om de site niet te overloaden\n",
    "for kvknr in kvknr_dict[\"kvknr\"]:\n",
    "    if kvknr not in kvk_processed[\"kvknr\"].to_list():\n",
    "        if kvknr not in skip:\n",
    "            print(kvknr)\n",
    "            time.sleep(5)\n",
    "            reg_date, emp_class = extract(kvknr)\n",
    "            kvk_processed = kvk_processed.append(pd.DataFrame([[kvknr,reg_date,emp_class]],columns=columns),ignore_index=True)"
   ]
  },
  {
   "cell_type": "code",
   "execution_count": 7,
   "metadata": {},
   "outputs": [
    {
     "data": {
      "text/html": [
       "<div>\n",
       "<style scoped>\n",
       "    .dataframe tbody tr th:only-of-type {\n",
       "        vertical-align: middle;\n",
       "    }\n",
       "\n",
       "    .dataframe tbody tr th {\n",
       "        vertical-align: top;\n",
       "    }\n",
       "\n",
       "    .dataframe thead th {\n",
       "        text-align: right;\n",
       "    }\n",
       "</style>\n",
       "<table border=\"1\" class=\"dataframe\">\n",
       "  <thead>\n",
       "    <tr style=\"text-align: right;\">\n",
       "      <th></th>\n",
       "      <th>kvknr</th>\n",
       "      <th>reg_date</th>\n",
       "      <th>emp_class</th>\n",
       "    </tr>\n",
       "  </thead>\n",
       "  <tbody>\n",
       "    <tr>\n",
       "      <th>6091</th>\n",
       "      <td>75841185</td>\n",
       "      <td>17-09-2019</td>\n",
       "      <td>02</td>\n",
       "    </tr>\n",
       "    <tr>\n",
       "      <th>6092</th>\n",
       "      <td>75848252</td>\n",
       "      <td>18-09-2019</td>\n",
       "      <td>02</td>\n",
       "    </tr>\n",
       "    <tr>\n",
       "      <th>6093</th>\n",
       "      <td>75857618</td>\n",
       "      <td>19-09-2019</td>\n",
       "      <td>02</td>\n",
       "    </tr>\n",
       "    <tr>\n",
       "      <th>6094</th>\n",
       "      <td>75862115</td>\n",
       "      <td>19-09-2019</td>\n",
       "      <td>02</td>\n",
       "    </tr>\n",
       "    <tr>\n",
       "      <th>6095</th>\n",
       "      <td>75866056</td>\n",
       "      <td>19-09-2019</td>\n",
       "      <td>02</td>\n",
       "    </tr>\n",
       "  </tbody>\n",
       "</table>\n",
       "</div>"
      ],
      "text/plain": [
       "         kvknr    reg_date emp_class\n",
       "6091  75841185  17-09-2019        02\n",
       "6092  75848252  18-09-2019        02\n",
       "6093  75857618  19-09-2019        02\n",
       "6094  75862115  19-09-2019        02\n",
       "6095  75866056  19-09-2019        02"
      ]
     },
     "execution_count": 7,
     "metadata": {},
     "output_type": "execute_result"
    }
   ],
   "source": [
    "kvk_processed.tail()"
   ]
  },
  {
   "cell_type": "code",
   "execution_count": 74,
   "metadata": {},
   "outputs": [],
   "source": [
    "#opslaan van resultaten\n",
    "kvk_processed.to_csv(\"kvk_companyinfo.csv\",index=False)"
   ]
  },
  {
   "cell_type": "code",
   "execution_count": 55,
   "metadata": {},
   "outputs": [],
   "source": [
    "#opslaan van kvk-nummers zonder resultaat\n",
    "with open(\"kvk_companyinfo_skip\" + '.p', 'wb') as fp:\n",
    "        pickle.dump(skip, fp)"
   ]
  }
 ],
 "metadata": {
  "kernelspec": {
   "display_name": "Python 3",
   "language": "python",
   "name": "python3"
  },
  "language_info": {
   "codemirror_mode": {
    "name": "ipython",
    "version": 3
   },
   "file_extension": ".py",
   "mimetype": "text/x-python",
   "name": "python",
   "nbconvert_exporter": "python",
   "pygments_lexer": "ipython3",
   "version": "3.7.4"
  }
 },
 "nbformat": 4,
 "nbformat_minor": 2
}
