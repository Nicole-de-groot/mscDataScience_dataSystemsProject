{
 "cells": [
  {
   "cell_type": "code",
   "execution_count": null,
   "metadata": {},
   "outputs": [],
   "source": [
    "from urllib import request\n",
    "from bs4 import BeautifulSoup\n",
    "import pandas as pd\n",
    "import time\n",
    "import os\n",
    "import pickle"
   ]
  },
  {
   "cell_type": "code",
   "execution_count": null,
   "metadata": {},
   "outputs": [],
   "source": [
    "#kvk-nummers die niet werken\n",
    "if os.path.isfile(\"kvk_companyinfo_skip\" + \".p\"):\n",
    "    with open(\"kvk_companyinfo_skip\" + \".p\", 'rb') as fp:\n",
    "        skip = pickle.load(fp)\n",
    "else: skip = []"
   ]
  },
  {
   "cell_type": "code",
   "execution_count": null,
   "metadata": {},
   "outputs": [],
   "source": [
    "#processed kvk-nummers (in het geval van een restart van de run om duplicates the voorkomen)\n",
    "if os.path.isfile(\"kvk_companyinfo.csv\"):\n",
    "    kvk_processed = pd.read_csv(\"kvk_companyinfo.csv\",dtype=object)\n",
    "else:\n",
    "    columns = [\"kvknr\",\"reg_date\",\"emp_class\"]\n",
    "    kvk_processed = pd.DataFrame(columns=columns)"
   ]
  },
  {
   "cell_type": "code",
   "execution_count": null,
   "metadata": {},
   "outputs": [],
   "source": [
    "#extract de informatie van companyinfo op basis van het kvk-nummer\n",
    "def extract(kvknr):\n",
    "    global skip\n",
    "    \n",
    "    #zoek functie om het bedrijf te vinden van het kvk-nummer\n",
    "    url = \"https://companyinfo.nl/freemium/?externalSearch=\"+kvknr\n",
    "    html = request.urlopen(url).read().decode('utf8')\n",
    "    raw = BeautifulSoup(html, 'html.parser').get_text()\n",
    "    \n",
    "    #vind de link naar het bedrijf en extract de informatie    \n",
    "    if raw.find('seoUrl') > 0:\n",
    "        new_url = ('/').join(raw[raw.find('seoUrl')+15:raw.find('resultAmount')-5].split('\\\\u002F'))\n",
    "        prefix = \"https://companyinfo.nl/organisatieprofiel/\"\n",
    "        new_html = request.urlopen(prefix+new_url).read().decode('utf8')\n",
    "        new_raw = BeautifulSoup(new_html, 'html.parser').get_text()\n",
    "\n",
    "        reg_date = new_raw[new_raw.find('registrationDate')+19:new_raw.find('registrationDate')+29]\n",
    "        emp_class = new_raw[new_raw.find('employeeClass')+16:new_raw.find('employeeClass')+18]\n",
    "        return reg_date, emp_class\n",
    "    else:\n",
    "        skip.append(kvknr)\n",
    "        return None, None"
   ]
  },
  {
   "cell_type": "code",
   "execution_count": null,
   "metadata": {},
   "outputs": [],
   "source": [
    "#voorbeeld\n",
    "kvknr = '01036591'\n",
    "reg_date, emp_class = extract(kvknr)\n",
    "\n",
    "print('registraion date:\\t', reg_date)\n",
    "print('employee class:\\t\\t', emp_class)"
   ]
  },
  {
   "cell_type": "code",
   "execution_count": null,
   "metadata": {},
   "outputs": [],
   "source": [
    "#dataset net kvk-nummers uit de kvk-dataset\n",
    "kvknr_dict = pd.read_csv(\"../kvk/kvknr.csv\", header=None, dtype=str)\n",
    "kvknr_dict.columns = [\"kvknr\"]"
   ]
  },
  {
   "cell_type": "code",
   "execution_count": null,
   "metadata": {},
   "outputs": [],
   "source": [
    "#loop over alle kvk-nummers en extract de informatie van companyinfo\n",
    "#kvk-nummers in skip geven geen resultaten bij companyinfo\n",
    "#sleep is toegevoegd om de site niet te overloaden\n",
    "for kvknr in kvknr_dict[\"kvknr\"]:\n",
    "    if kvknr not in kvk_processed[\"kvknr\"].to_list():\n",
    "        if kvknr not in skip:\n",
    "            print(kvknr)\n",
    "            time.sleep(5)\n",
    "            reg_date, emp_class = extract(kvknr)\n",
    "            kvk_processed = kvk_processed.append(pd.DataFrame([[kvknr,reg_date,emp_class]],columns=columns),ignore_index=True)"
   ]
  },
  {
   "cell_type": "code",
   "execution_count": null,
   "metadata": {},
   "outputs": [],
   "source": [
    "kvk_processed.tail()"
   ]
  },
  {
   "cell_type": "code",
   "execution_count": null,
   "metadata": {},
   "outputs": [],
   "source": [
    "#opslaan van resultaten\n",
    "kvk_processed.to_csv(\"kvk_companyinfo.csv\",index=False)"
   ]
  },
  {
   "cell_type": "code",
   "execution_count": null,
   "metadata": {},
   "outputs": [],
   "source": [
    "#opslaan van kvk-nummers zonder resultaat\n",
    "with open(\"kvk_companyinfo_skip\" + '.p', 'wb') as fp:\n",
    "        pickle.dump(skip, fp)"
   ]
  }
 ],
 "metadata": {
  "kernelspec": {
   "display_name": "Python 3",
   "language": "python",
   "name": "python3"
  },
  "language_info": {
   "codemirror_mode": {
    "name": "ipython",
    "version": 3
   },
   "file_extension": ".py",
   "mimetype": "text/x-python",
   "name": "python",
   "nbconvert_exporter": "python",
   "pygments_lexer": "ipython3",
   "version": "3.7.4"
  }
 },
 "nbformat": 4,
 "nbformat_minor": 2
}
