{
 "cells": [
  {
   "cell_type": "code",
   "execution_count": null,
   "metadata": {},
   "outputs": [],
   "source": [
    "import pandas as pd\n",
    "from bs4 import BeautifulSoup\n",
    "import os\n",
    "import glob\n",
    "import pandas as pd"
   ]
  },
  {
   "cell_type": "code",
   "execution_count": null,
   "metadata": {},
   "outputs": [],
   "source": [
    "#alle txt files in het mapje (de fenex data)\n",
    "files = glob.glob(\"*txt\")"
   ]
  },
  {
   "cell_type": "code",
   "execution_count": null,
   "metadata": {},
   "outputs": [],
   "source": [
    "#lege company list\n",
    "company_list = []"
   ]
  },
  {
   "cell_type": "code",
   "execution_count": null,
   "metadata": {},
   "outputs": [],
   "source": [
    "#lees file met bs en extract de company naam en voeg toe aan company list\n",
    "for i in files:\n",
    "    f = open(i,\"r\")\n",
    "    doc = f.read()\n",
    "    f.close()\n",
    "\n",
    "    soup = BeautifulSoup(doc, 'html.parser')\n",
    "    \n",
    "    for company in soup.select('a[href^=\"http://\"]'):\n",
    "        company_name = company.get_text()\n",
    "        company_list.append(company_name)"
   ]
  },
  {
   "cell_type": "code",
   "execution_count": null,
   "metadata": {},
   "outputs": [],
   "source": [
    "#creeer een dataframe voor opslaan in csv\n",
    "fenex = pd.DataFrame(data = company_list, columns = ['Company Name'])"
   ]
  },
  {
   "cell_type": "code",
   "execution_count": null,
   "metadata": {},
   "outputs": [],
   "source": [
    "#opslaan van fenex data\n",
    "fenex.to_csv(\"fenex.csv\", index=None)"
   ]
  }
 ],
 "metadata": {
  "kernelspec": {
   "display_name": "Python 3",
   "language": "python",
   "name": "python3"
  },
  "language_info": {
   "codemirror_mode": {
    "name": "ipython",
    "version": 3
   },
   "file_extension": ".py",
   "mimetype": "text/x-python",
   "name": "python",
   "nbconvert_exporter": "python",
   "pygments_lexer": "ipython3",
   "version": "3.7.4"
  }
 },
 "nbformat": 4,
 "nbformat_minor": 2
}
