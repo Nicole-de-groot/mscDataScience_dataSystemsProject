{
 "cells": [
  {
   "cell_type": "code",
   "execution_count": 1,
   "metadata": {},
   "outputs": [],
   "source": [
    "import pandas as pd\n",
    "import numpy as np"
   ]
  },
  {
   "cell_type": "code",
   "execution_count": 2,
   "metadata": {},
   "outputs": [],
   "source": [
    "kadaster = pd.read_csv(\"kadaster/kadaster_merged_dataset_corrected.csv\", dtype=str)\n",
    "sbi = pd.read_csv(\"kvk/sbi_codes/kvk_sbi_codes.csv\", dtype=object)\n",
    "kvk = pd.read_excel(\"kvk/DatasetKvK01102019.xls\", dtype=object)\n",
    "niwo = pd.read_csv(\"niwo/niwo_dict.csv\", dtype=object)\n",
    "fenex = pd.read_csv(\"fenex/fenex.csv\", dtype=object)\n",
    "company_info = pd.read_csv(\"company_info/kvk_companyinfo.csv\", dtype=object)"
   ]
  },
  {
   "cell_type": "code",
   "execution_count": 3,
   "metadata": {},
   "outputs": [],
   "source": [
    "kvk_drop = ['RGL','STRVA', 'PCPLVA', 'STRCA', 'PCPLCA','HN1X30', 'HN1X2X30', 'HN2X2X30', \\\n",
    "            'PCCA', 'GEMK_VA', 'GEMK_CA', 'GEMNAAM', 'PROV', 'STRAAT_VA', \\\n",
    "            'TOEV_VA', 'PC_VA', 'PLAATS_VA', 'STRAAT_CA', 'HUISNR_CA', \\\n",
    "            'TOEV_CA', 'PC_CA', 'PLAATS_CA', 'NMI', 'HFD_N_VEST', 'C_HOOFDACT', 'VERK_ACT', \\\n",
    "            'NEVEN1', 'NEVEN2', 'IND_IM_EXP', 'URL', 'BEHKN', 'GEOKN']\n",
    "kadaster_drop = ['nrAanduiding','vblObject']"
   ]
  },
  {
   "cell_type": "code",
   "execution_count": 4,
   "metadata": {},
   "outputs": [],
   "source": [
    "kvk_cluster = kvk.drop(kvk_drop, axis=1)\n",
    "kadaster_cluster = kadaster.drop(kadaster_drop, axis=1)"
   ]
  },
  {
   "cell_type": "code",
   "execution_count": 5,
   "metadata": {},
   "outputs": [],
   "source": [
    "kvk_cluster[\"HUISNR_VA\"] = kvk_cluster[\"HUISNR_VA\"].astype('int64')\n",
    "kadaster_cluster[\"huisnummer\"] = kadaster_cluster[\"huisnummer\"].astype('int64')"
   ]
  },
  {
   "cell_type": "code",
   "execution_count": 6,
   "metadata": {},
   "outputs": [],
   "source": [
    "kvk_kadaster = pd.merge(left=kvk_cluster, right=kadaster_cluster, how='left', left_on=[\"PCVA\",\"HUISNR_VA\"], \\\n",
    "                        right_on=[\"postcode\",\"huisnummer\"])\n",
    "kvk_kad_sbi = pd.merge(left=kvk_kadaster, right=sbi, how='left', on=[\"DOSSIER\",\"VGNUMMER\"])\n",
    "kvk_kad_sbi_comp = pd.merge(left=kvk_kad_sbi, right=company_info, how='left', left_on=\"DOSSIER\", right_on=\"kvknr\")"
   ]
  },
  {
   "cell_type": "code",
   "execution_count": 7,
   "metadata": {},
   "outputs": [],
   "source": [
    "niwo_kvknr = niwo[\"kvk_nummer\"].to_list()\n",
    "fenex_compname = [x.lower().strip() for x in fenex[\"Company Name\"].to_list()]"
   ]
  },
  {
   "cell_type": "code",
   "execution_count": 8,
   "metadata": {},
   "outputs": [],
   "source": [
    "kvk_kad_sbi_comp['inNiwo'] = [1 if x in niwo_kvknr else 0 for x in kvk_kad_sbi_comp['DOSSIER']] \n",
    "kvk_kad_sbi_comp[\"inFenex\"] = [1 if x.lower() in fenex_compname else 0 for x in kvk_kad_sbi_comp[\"HN45\"].astype(str)]"
   ]
  },
  {
   "cell_type": "code",
   "execution_count": 9,
   "metadata": {},
   "outputs": [
    {
     "data": {
      "text/html": [
       "<div>\n",
       "<style scoped>\n",
       "    .dataframe tbody tr th:only-of-type {\n",
       "        vertical-align: middle;\n",
       "    }\n",
       "\n",
       "    .dataframe tbody tr th {\n",
       "        vertical-align: top;\n",
       "    }\n",
       "\n",
       "    .dataframe thead th {\n",
       "        text-align: right;\n",
       "    }\n",
       "</style>\n",
       "<table border=\"1\" class=\"dataframe\">\n",
       "  <thead>\n",
       "    <tr style=\"text-align: right;\">\n",
       "      <th></th>\n",
       "      <th>DOSSIER</th>\n",
       "      <th>VGNUMMER</th>\n",
       "      <th>HN45</th>\n",
       "      <th>PCVA</th>\n",
       "      <th>HUISNR_VA</th>\n",
       "      <th>RV</th>\n",
       "      <th>huisnummer</th>\n",
       "      <th>postcode</th>\n",
       "      <th>inOnderzoek</th>\n",
       "      <th>gebruiksdoel</th>\n",
       "      <th>oppervlakte</th>\n",
       "      <th>vbloStatus</th>\n",
       "      <th>C_HOOFDACT</th>\n",
       "      <th>NEVEN1</th>\n",
       "      <th>NEVEN2</th>\n",
       "      <th>kvknr</th>\n",
       "      <th>reg_date</th>\n",
       "      <th>emp_class</th>\n",
       "      <th>inNiwo</th>\n",
       "      <th>inFenex</th>\n",
       "    </tr>\n",
       "  </thead>\n",
       "  <tbody>\n",
       "    <tr>\n",
       "      <th>0</th>\n",
       "      <td>01016460</td>\n",
       "      <td>000018080715</td>\n",
       "      <td>Falco Lines B.V.</td>\n",
       "      <td>2984BG</td>\n",
       "      <td>9</td>\n",
       "      <td>41</td>\n",
       "      <td>9.0</td>\n",
       "      <td>2984BG</td>\n",
       "      <td>False</td>\n",
       "      <td>kantoorfunctie</td>\n",
       "      <td>214</td>\n",
       "      <td>in gebruik</td>\n",
       "      <td>H</td>\n",
       "      <td>NaN</td>\n",
       "      <td>NaN</td>\n",
       "      <td>01016460</td>\n",
       "      <td>21-05-2001</td>\n",
       "      <td>05</td>\n",
       "      <td>0</td>\n",
       "      <td>0</td>\n",
       "    </tr>\n",
       "    <tr>\n",
       "      <th>1</th>\n",
       "      <td>01036591</td>\n",
       "      <td>000015881202</td>\n",
       "      <td>Distributie en Container Centrum B.V.</td>\n",
       "      <td>8911AW</td>\n",
       "      <td>1</td>\n",
       "      <td>41</td>\n",
       "      <td>1.0</td>\n",
       "      <td>8911AW</td>\n",
       "      <td>False</td>\n",
       "      <td>kantoorfunctie</td>\n",
       "      <td>394</td>\n",
       "      <td>in gebruik</td>\n",
       "      <td>H</td>\n",
       "      <td>N</td>\n",
       "      <td>N</td>\n",
       "      <td>01036591</td>\n",
       "      <td>14-12-1972</td>\n",
       "      <td>01</td>\n",
       "      <td>0</td>\n",
       "      <td>0</td>\n",
       "    </tr>\n",
       "    <tr>\n",
       "      <th>2</th>\n",
       "      <td>01038431</td>\n",
       "      <td>000015998142</td>\n",
       "      <td>Pax Bouw en Industrieservice B.V.</td>\n",
       "      <td>8448CN</td>\n",
       "      <td>2</td>\n",
       "      <td>41</td>\n",
       "      <td>2.0</td>\n",
       "      <td>8448CN</td>\n",
       "      <td>False</td>\n",
       "      <td>industriefunctie</td>\n",
       "      <td>5154</td>\n",
       "      <td>in gebruik</td>\n",
       "      <td>H</td>\n",
       "      <td>C</td>\n",
       "      <td>H</td>\n",
       "      <td>01038431</td>\n",
       "      <td>14-12-1972</td>\n",
       "      <td>06</td>\n",
       "      <td>1</td>\n",
       "      <td>0</td>\n",
       "    </tr>\n",
       "    <tr>\n",
       "      <th>3</th>\n",
       "      <td>01049319</td>\n",
       "      <td>000017297222</td>\n",
       "      <td>Water-Land Bevrachtingen B.V.</td>\n",
       "      <td>8801JK</td>\n",
       "      <td>3</td>\n",
       "      <td>41</td>\n",
       "      <td>3.0</td>\n",
       "      <td>8801JK</td>\n",
       "      <td>False</td>\n",
       "      <td>kantoorfunctie</td>\n",
       "      <td>278</td>\n",
       "      <td>in gebruik</td>\n",
       "      <td>H</td>\n",
       "      <td>NaN</td>\n",
       "      <td>NaN</td>\n",
       "      <td>01049319</td>\n",
       "      <td>02-05-1983</td>\n",
       "      <td>04</td>\n",
       "      <td>1</td>\n",
       "      <td>0</td>\n",
       "    </tr>\n",
       "    <tr>\n",
       "      <th>4</th>\n",
       "      <td>01056343</td>\n",
       "      <td>000017633524</td>\n",
       "      <td>Koel-, Vries- en Opslagbedrijf Gosliga B.V.</td>\n",
       "      <td>9061AE</td>\n",
       "      <td>12</td>\n",
       "      <td>41</td>\n",
       "      <td>12.0</td>\n",
       "      <td>9061AE</td>\n",
       "      <td>False</td>\n",
       "      <td>overige gebruiksfunctie</td>\n",
       "      <td>97</td>\n",
       "      <td>in gebruik</td>\n",
       "      <td>H</td>\n",
       "      <td>H</td>\n",
       "      <td>H</td>\n",
       "      <td>01056343</td>\n",
       "      <td>23-03-1988</td>\n",
       "      <td>01</td>\n",
       "      <td>0</td>\n",
       "      <td>0</td>\n",
       "    </tr>\n",
       "  </tbody>\n",
       "</table>\n",
       "</div>"
      ],
      "text/plain": [
       "    DOSSIER      VGNUMMER                                         HN45  \\\n",
       "0  01016460  000018080715                             Falco Lines B.V.   \n",
       "1  01036591  000015881202        Distributie en Container Centrum B.V.   \n",
       "2  01038431  000015998142            Pax Bouw en Industrieservice B.V.   \n",
       "3  01049319  000017297222                Water-Land Bevrachtingen B.V.   \n",
       "4  01056343  000017633524  Koel-, Vries- en Opslagbedrijf Gosliga B.V.   \n",
       "\n",
       "     PCVA  HUISNR_VA  RV  huisnummer postcode inOnderzoek  \\\n",
       "0  2984BG          9  41         9.0   2984BG       False   \n",
       "1  8911AW          1  41         1.0   8911AW       False   \n",
       "2  8448CN          2  41         2.0   8448CN       False   \n",
       "3  8801JK          3  41         3.0   8801JK       False   \n",
       "4  9061AE         12  41        12.0   9061AE       False   \n",
       "\n",
       "              gebruiksdoel oppervlakte  vbloStatus C_HOOFDACT NEVEN1 NEVEN2  \\\n",
       "0           kantoorfunctie         214  in gebruik          H    NaN    NaN   \n",
       "1           kantoorfunctie         394  in gebruik          H      N      N   \n",
       "2         industriefunctie        5154  in gebruik          H      C      H   \n",
       "3           kantoorfunctie         278  in gebruik          H    NaN    NaN   \n",
       "4  overige gebruiksfunctie          97  in gebruik          H      H      H   \n",
       "\n",
       "      kvknr    reg_date emp_class  inNiwo  inFenex  \n",
       "0  01016460  21-05-2001        05       0        0  \n",
       "1  01036591  14-12-1972        01       0        0  \n",
       "2  01038431  14-12-1972        06       1        0  \n",
       "3  01049319  02-05-1983        04       1        0  \n",
       "4  01056343  23-03-1988        01       0        0  "
      ]
     },
     "execution_count": 9,
     "metadata": {},
     "output_type": "execute_result"
    }
   ],
   "source": [
    "kvk_kad_sbi_comp.head()"
   ]
  },
  {
   "cell_type": "raw",
   "metadata": {},
   "source": [
    "kvk_kad_sbi_comp.to_csv(\"data.csv\", index=None)"
   ]
  },
  {
   "cell_type": "code",
   "execution_count": 10,
   "metadata": {},
   "outputs": [],
   "source": [
    "drop_cols = [\"HUISNR_VA\",\"PCVA\",\"huisnummer\",\"postcode\",\"kvknr\",\"DOSSIER\",\"HN45\"]\n",
    "kvk_kad_sbi_comp = kvk_kad_sbi_comp.drop(drop_cols,axis=1)"
   ]
  },
  {
   "cell_type": "code",
   "execution_count": 27,
   "metadata": {},
   "outputs": [],
   "source": [
    "cluster_data = kvk_kad_sbi_comp"
   ]
  },
  {
   "cell_type": "code",
   "execution_count": 30,
   "metadata": {},
   "outputs": [
    {
     "data": {
      "text/plain": [
       "Index(['VGNUMMER', 'inOnderzoek', 'gebruiksdoel'], dtype='object')"
      ]
     },
     "execution_count": 30,
     "metadata": {},
     "output_type": "execute_result"
    }
   ],
   "source": [
    "cluster_data.columns"
   ]
  },
  {
   "cell_type": "code",
   "execution_count": 29,
   "metadata": {},
   "outputs": [],
   "source": [
    "cluster_data = cluster_data.drop([\"oppervlakte\",\"emp_class\",\"NEVEN1\",\"NEVEN2\",\"reg_date\",\"RV\",\"vbloStatus\",\"C_HOOFDACT\",\"inNiwo\",\"inFenex\"],axis=1)"
   ]
  },
  {
   "cell_type": "code",
   "execution_count": 31,
   "metadata": {},
   "outputs": [],
   "source": [
    "def onehot_encoder(df, prefix):\n",
    "    one_hot = pd.get_dummies(df[prefix], prefix=prefix)\n",
    "    df = df.drop([prefix], axis=1)\n",
    "    df = df.join(one_hot)\n",
    "    return df"
   ]
  },
  {
   "cell_type": "code",
   "execution_count": 17,
   "metadata": {
    "scrolled": true
   },
   "outputs": [],
   "source": [
    "cluster_data[\"RV\"] = cluster_data[\"RV\"].astype(int)\n",
    "# cluster_data[\"oppervlakte\"] = cluster_data[\"oppervlakte\"].astype(float)\n",
    "# cluster_data[\"emp_class\"] = cluster_data[\"emp_class\"].replace(to_replace=[np.nan,'io'],value=None)\n",
    "# cluster_data[\"emp_class\"] = cluster_data[\"emp_class\"].astype(int)\n",
    "# cluster_data[\"reg_date\"] = cluster_data[\"reg_date\"].replace(to_replace=['ull,\"emplo','(w,d,s,l,i'], value=None)\n",
    "# cluster_data['reg_date'] = pd.to_datetime(cluster_data['reg_date'])"
   ]
  },
  {
   "cell_type": "code",
   "execution_count": 32,
   "metadata": {},
   "outputs": [],
   "source": [
    "cluster_data = onehot_encoder(cluster_data,\"gebruiksdoel\")\n",
    "# cluster_data = onehot_encoder(cluster_data,\"vbloStatus\")\n",
    "# cluster_data = onehot_encoder(cluster_data,\"C_HOOFDACT\")\n",
    "# cluster_data = onehot_encoder(cluster_data, \"NEVEN1\")\n",
    "# cluster_data = onehot_encoder(cluster_data, \"NEVEN2\")\n",
    "# cluster_data = onehot_encoder(cluster_data, \"RV\")"
   ]
  },
  {
   "cell_type": "code",
   "execution_count": 33,
   "metadata": {},
   "outputs": [
    {
     "data": {
      "text/html": [
       "<div>\n",
       "<style scoped>\n",
       "    .dataframe tbody tr th:only-of-type {\n",
       "        vertical-align: middle;\n",
       "    }\n",
       "\n",
       "    .dataframe tbody tr th {\n",
       "        vertical-align: top;\n",
       "    }\n",
       "\n",
       "    .dataframe thead th {\n",
       "        text-align: right;\n",
       "    }\n",
       "</style>\n",
       "<table border=\"1\" class=\"dataframe\">\n",
       "  <thead>\n",
       "    <tr style=\"text-align: right;\">\n",
       "      <th></th>\n",
       "      <th>VGNUMMER</th>\n",
       "      <th>inOnderzoek</th>\n",
       "      <th>gebruiksdoel_bijeenkomstfunctie</th>\n",
       "      <th>gebruiksdoel_celfunctie</th>\n",
       "      <th>gebruiksdoel_gezondheidszorgfunctie</th>\n",
       "      <th>gebruiksdoel_industriefunctie</th>\n",
       "      <th>gebruiksdoel_kantoorfunctie</th>\n",
       "      <th>gebruiksdoel_logiesfunctie</th>\n",
       "      <th>gebruiksdoel_onderwijsfunctie</th>\n",
       "      <th>gebruiksdoel_overige gebruiksfunctie</th>\n",
       "      <th>gebruiksdoel_sportfunctie</th>\n",
       "      <th>gebruiksdoel_winkelfunctie</th>\n",
       "      <th>gebruiksdoel_woonfunctie</th>\n",
       "    </tr>\n",
       "  </thead>\n",
       "  <tbody>\n",
       "    <tr>\n",
       "      <th>0</th>\n",
       "      <td>000018080715</td>\n",
       "      <td>False</td>\n",
       "      <td>0</td>\n",
       "      <td>0</td>\n",
       "      <td>0</td>\n",
       "      <td>0</td>\n",
       "      <td>1</td>\n",
       "      <td>0</td>\n",
       "      <td>0</td>\n",
       "      <td>0</td>\n",
       "      <td>0</td>\n",
       "      <td>0</td>\n",
       "      <td>0</td>\n",
       "    </tr>\n",
       "    <tr>\n",
       "      <th>1</th>\n",
       "      <td>000015881202</td>\n",
       "      <td>False</td>\n",
       "      <td>0</td>\n",
       "      <td>0</td>\n",
       "      <td>0</td>\n",
       "      <td>0</td>\n",
       "      <td>1</td>\n",
       "      <td>0</td>\n",
       "      <td>0</td>\n",
       "      <td>0</td>\n",
       "      <td>0</td>\n",
       "      <td>0</td>\n",
       "      <td>0</td>\n",
       "    </tr>\n",
       "    <tr>\n",
       "      <th>2</th>\n",
       "      <td>000015998142</td>\n",
       "      <td>False</td>\n",
       "      <td>0</td>\n",
       "      <td>0</td>\n",
       "      <td>0</td>\n",
       "      <td>1</td>\n",
       "      <td>0</td>\n",
       "      <td>0</td>\n",
       "      <td>0</td>\n",
       "      <td>0</td>\n",
       "      <td>0</td>\n",
       "      <td>0</td>\n",
       "      <td>0</td>\n",
       "    </tr>\n",
       "    <tr>\n",
       "      <th>3</th>\n",
       "      <td>000017297222</td>\n",
       "      <td>False</td>\n",
       "      <td>0</td>\n",
       "      <td>0</td>\n",
       "      <td>0</td>\n",
       "      <td>0</td>\n",
       "      <td>1</td>\n",
       "      <td>0</td>\n",
       "      <td>0</td>\n",
       "      <td>0</td>\n",
       "      <td>0</td>\n",
       "      <td>0</td>\n",
       "      <td>0</td>\n",
       "    </tr>\n",
       "    <tr>\n",
       "      <th>4</th>\n",
       "      <td>000017633524</td>\n",
       "      <td>False</td>\n",
       "      <td>0</td>\n",
       "      <td>0</td>\n",
       "      <td>0</td>\n",
       "      <td>0</td>\n",
       "      <td>0</td>\n",
       "      <td>0</td>\n",
       "      <td>0</td>\n",
       "      <td>1</td>\n",
       "      <td>0</td>\n",
       "      <td>0</td>\n",
       "      <td>0</td>\n",
       "    </tr>\n",
       "  </tbody>\n",
       "</table>\n",
       "</div>"
      ],
      "text/plain": [
       "       VGNUMMER inOnderzoek  gebruiksdoel_bijeenkomstfunctie  \\\n",
       "0  000018080715       False                                0   \n",
       "1  000015881202       False                                0   \n",
       "2  000015998142       False                                0   \n",
       "3  000017297222       False                                0   \n",
       "4  000017633524       False                                0   \n",
       "\n",
       "   gebruiksdoel_celfunctie  gebruiksdoel_gezondheidszorgfunctie  \\\n",
       "0                        0                                    0   \n",
       "1                        0                                    0   \n",
       "2                        0                                    0   \n",
       "3                        0                                    0   \n",
       "4                        0                                    0   \n",
       "\n",
       "   gebruiksdoel_industriefunctie  gebruiksdoel_kantoorfunctie  \\\n",
       "0                              0                            1   \n",
       "1                              0                            1   \n",
       "2                              1                            0   \n",
       "3                              0                            1   \n",
       "4                              0                            0   \n",
       "\n",
       "   gebruiksdoel_logiesfunctie  gebruiksdoel_onderwijsfunctie  \\\n",
       "0                           0                              0   \n",
       "1                           0                              0   \n",
       "2                           0                              0   \n",
       "3                           0                              0   \n",
       "4                           0                              0   \n",
       "\n",
       "   gebruiksdoel_overige gebruiksfunctie  gebruiksdoel_sportfunctie  \\\n",
       "0                                     0                          0   \n",
       "1                                     0                          0   \n",
       "2                                     0                          0   \n",
       "3                                     0                          0   \n",
       "4                                     1                          0   \n",
       "\n",
       "   gebruiksdoel_winkelfunctie  gebruiksdoel_woonfunctie  \n",
       "0                           0                         0  \n",
       "1                           0                         0  \n",
       "2                           0                         0  \n",
       "3                           0                         0  \n",
       "4                           0                         0  "
      ]
     },
     "execution_count": 33,
     "metadata": {},
     "output_type": "execute_result"
    }
   ],
   "source": [
    "cluster_data.head()"
   ]
  },
  {
   "cell_type": "code",
   "execution_count": 34,
   "metadata": {},
   "outputs": [
    {
     "data": {
      "text/plain": [
       "0.0"
      ]
     },
     "execution_count": 34,
     "metadata": {},
     "output_type": "execute_result"
    }
   ],
   "source": [
    "cluster_data[\"inOnderzoek\"] = cluster_data[\"inOnderzoek\"].replace(to_replace='True', value = 1)\n",
    "cluster_data[\"inOnderzoek\"] = cluster_data[\"inOnderzoek\"].replace(to_replace='False', value = 0)\n",
    "cluster_data.inOnderzoek.iloc[0]"
   ]
  },
  {
   "cell_type": "code",
   "execution_count": 35,
   "metadata": {
    "scrolled": false
   },
   "outputs": [
    {
     "data": {
      "text/plain": [
       "VGNUMMER                                 object\n",
       "inOnderzoek                             float64\n",
       "gebruiksdoel_bijeenkomstfunctie           uint8\n",
       "gebruiksdoel_celfunctie                   uint8\n",
       "gebruiksdoel_gezondheidszorgfunctie       uint8\n",
       "gebruiksdoel_industriefunctie             uint8\n",
       "gebruiksdoel_kantoorfunctie               uint8\n",
       "gebruiksdoel_logiesfunctie                uint8\n",
       "gebruiksdoel_onderwijsfunctie             uint8\n",
       "gebruiksdoel_overige gebruiksfunctie      uint8\n",
       "gebruiksdoel_sportfunctie                 uint8\n",
       "gebruiksdoel_winkelfunctie                uint8\n",
       "gebruiksdoel_woonfunctie                  uint8\n",
       "dtype: object"
      ]
     },
     "execution_count": 35,
     "metadata": {},
     "output_type": "execute_result"
    }
   ],
   "source": [
    "cluster_data.dtypes"
   ]
  },
  {
   "cell_type": "code",
   "execution_count": 36,
   "metadata": {},
   "outputs": [],
   "source": [
    "cluster_data.to_csv(\"encoded_data_gebruiksdoel_onderzoek.csv\",index=None)"
   ]
  },
  {
   "cell_type": "code",
   "execution_count": null,
   "metadata": {},
   "outputs": [],
   "source": []
  },
  {
   "cell_type": "code",
   "execution_count": null,
   "metadata": {},
   "outputs": [],
   "source": []
  },
  {
   "cell_type": "markdown",
   "metadata": {},
   "source": [
    "## Clustering"
   ]
  },
  {
   "cell_type": "code",
   "execution_count": 19,
   "metadata": {},
   "outputs": [],
   "source": [
    "# import us\n",
    "import pandas as pd\n",
    "import numpy as np\n",
    "from itertools import chain\n",
    "from sklearn.cluster import KMeans\n",
    "from sklearn.model_selection import train_test_split\n",
    "from matplotlib import pyplot as plt\n",
    "%matplotlib inline"
   ]
  },
  {
   "cell_type": "code",
   "execution_count": 20,
   "metadata": {},
   "outputs": [],
   "source": [
    "X = cluster_data.drop(['VGNUMMER','inOnderzoek','reg_date'],axis=1).dropna()\n",
    "X_train, X_test = train_test_split(X, test_size=0.50, random_state=420)"
   ]
  },
  {
   "cell_type": "code",
   "execution_count": 22,
   "metadata": {},
   "outputs": [
    {
     "ename": "KeyboardInterrupt",
     "evalue": "",
     "output_type": "error",
     "traceback": [
      "\u001b[0;31m---------------------------------------------------------------------------\u001b[0m",
      "\u001b[0;31mKeyboardInterrupt\u001b[0m                         Traceback (most recent call last)",
      "\u001b[0;32m<ipython-input-22-7512813b1a69>\u001b[0m in \u001b[0;36m<module>\u001b[0;34m\u001b[0m\n\u001b[1;32m      2\u001b[0m \u001b[0mloss\u001b[0m \u001b[0;34m=\u001b[0m \u001b[0;34m[\u001b[0m\u001b[0;34m]\u001b[0m\u001b[0;34m\u001b[0m\u001b[0;34m\u001b[0m\u001b[0m\n\u001b[1;32m      3\u001b[0m \u001b[0;32mfor\u001b[0m \u001b[0mk\u001b[0m \u001b[0;32min\u001b[0m \u001b[0mrange\u001b[0m\u001b[0;34m(\u001b[0m\u001b[0;36m1\u001b[0m\u001b[0;34m,\u001b[0m \u001b[0mX_train\u001b[0m\u001b[0;34m.\u001b[0m\u001b[0mshape\u001b[0m\u001b[0;34m[\u001b[0m\u001b[0;36m0\u001b[0m\u001b[0;34m]\u001b[0m\u001b[0;34m)\u001b[0m\u001b[0;34m:\u001b[0m\u001b[0;34m\u001b[0m\u001b[0;34m\u001b[0m\u001b[0m\n\u001b[0;32m----> 4\u001b[0;31m     \u001b[0mkmeans\u001b[0m \u001b[0;34m=\u001b[0m \u001b[0mKMeans\u001b[0m\u001b[0;34m(\u001b[0m\u001b[0mn_clusters\u001b[0m\u001b[0;34m=\u001b[0m\u001b[0mk\u001b[0m\u001b[0;34m,\u001b[0m \u001b[0mrandom_state\u001b[0m\u001b[0;34m=\u001b[0m\u001b[0;36m0\u001b[0m\u001b[0;34m)\u001b[0m\u001b[0;34m.\u001b[0m\u001b[0mfit\u001b[0m\u001b[0;34m(\u001b[0m\u001b[0mX_train\u001b[0m\u001b[0;34m)\u001b[0m\u001b[0;34m\u001b[0m\u001b[0;34m\u001b[0m\u001b[0m\n\u001b[0m\u001b[1;32m      5\u001b[0m     \u001b[0mloss\u001b[0m\u001b[0;34m.\u001b[0m\u001b[0mappend\u001b[0m\u001b[0;34m(\u001b[0m\u001b[0mkmeans\u001b[0m\u001b[0;34m.\u001b[0m\u001b[0mscore\u001b[0m\u001b[0;34m(\u001b[0m\u001b[0mX_test\u001b[0m\u001b[0;34m)\u001b[0m\u001b[0;34m)\u001b[0m\u001b[0;34m\u001b[0m\u001b[0;34m\u001b[0m\u001b[0m\n",
      "\u001b[0;32m~/anaconda3/lib/python3.7/site-packages/sklearn/cluster/k_means_.py\u001b[0m in \u001b[0;36mfit\u001b[0;34m(self, X, y, sample_weight)\u001b[0m\n\u001b[1;32m    969\u001b[0m                 \u001b[0mtol\u001b[0m\u001b[0;34m=\u001b[0m\u001b[0mself\u001b[0m\u001b[0;34m.\u001b[0m\u001b[0mtol\u001b[0m\u001b[0;34m,\u001b[0m \u001b[0mrandom_state\u001b[0m\u001b[0;34m=\u001b[0m\u001b[0mrandom_state\u001b[0m\u001b[0;34m,\u001b[0m \u001b[0mcopy_x\u001b[0m\u001b[0;34m=\u001b[0m\u001b[0mself\u001b[0m\u001b[0;34m.\u001b[0m\u001b[0mcopy_x\u001b[0m\u001b[0;34m,\u001b[0m\u001b[0;34m\u001b[0m\u001b[0;34m\u001b[0m\u001b[0m\n\u001b[1;32m    970\u001b[0m                 \u001b[0mn_jobs\u001b[0m\u001b[0;34m=\u001b[0m\u001b[0mself\u001b[0m\u001b[0;34m.\u001b[0m\u001b[0mn_jobs\u001b[0m\u001b[0;34m,\u001b[0m \u001b[0malgorithm\u001b[0m\u001b[0;34m=\u001b[0m\u001b[0mself\u001b[0m\u001b[0;34m.\u001b[0m\u001b[0malgorithm\u001b[0m\u001b[0;34m,\u001b[0m\u001b[0;34m\u001b[0m\u001b[0;34m\u001b[0m\u001b[0m\n\u001b[0;32m--> 971\u001b[0;31m                 return_n_iter=True)\n\u001b[0m\u001b[1;32m    972\u001b[0m         \u001b[0;32mreturn\u001b[0m \u001b[0mself\u001b[0m\u001b[0;34m\u001b[0m\u001b[0;34m\u001b[0m\u001b[0m\n\u001b[1;32m    973\u001b[0m \u001b[0;34m\u001b[0m\u001b[0m\n",
      "\u001b[0;32m~/anaconda3/lib/python3.7/site-packages/sklearn/cluster/k_means_.py\u001b[0m in \u001b[0;36mk_means\u001b[0;34m(X, n_clusters, sample_weight, init, precompute_distances, n_init, max_iter, verbose, tol, random_state, copy_x, n_jobs, algorithm, return_n_iter)\u001b[0m\n\u001b[1;32m    378\u001b[0m                 \u001b[0mverbose\u001b[0m\u001b[0;34m=\u001b[0m\u001b[0mverbose\u001b[0m\u001b[0;34m,\u001b[0m \u001b[0mprecompute_distances\u001b[0m\u001b[0;34m=\u001b[0m\u001b[0mprecompute_distances\u001b[0m\u001b[0;34m,\u001b[0m\u001b[0;34m\u001b[0m\u001b[0;34m\u001b[0m\u001b[0m\n\u001b[1;32m    379\u001b[0m                 \u001b[0mtol\u001b[0m\u001b[0;34m=\u001b[0m\u001b[0mtol\u001b[0m\u001b[0;34m,\u001b[0m \u001b[0mx_squared_norms\u001b[0m\u001b[0;34m=\u001b[0m\u001b[0mx_squared_norms\u001b[0m\u001b[0;34m,\u001b[0m\u001b[0;34m\u001b[0m\u001b[0;34m\u001b[0m\u001b[0m\n\u001b[0;32m--> 380\u001b[0;31m                 random_state=random_state)\n\u001b[0m\u001b[1;32m    381\u001b[0m             \u001b[0;31m# determine if these results are the best so far\u001b[0m\u001b[0;34m\u001b[0m\u001b[0;34m\u001b[0m\u001b[0;34m\u001b[0m\u001b[0m\n\u001b[1;32m    382\u001b[0m             \u001b[0;32mif\u001b[0m \u001b[0mbest_inertia\u001b[0m \u001b[0;32mis\u001b[0m \u001b[0;32mNone\u001b[0m \u001b[0;32mor\u001b[0m \u001b[0minertia\u001b[0m \u001b[0;34m<\u001b[0m \u001b[0mbest_inertia\u001b[0m\u001b[0;34m:\u001b[0m\u001b[0;34m\u001b[0m\u001b[0;34m\u001b[0m\u001b[0m\n",
      "\u001b[0;32m~/anaconda3/lib/python3.7/site-packages/sklearn/cluster/k_means_.py\u001b[0m in \u001b[0;36m_kmeans_single_elkan\u001b[0;34m(X, sample_weight, n_clusters, max_iter, init, verbose, x_squared_norms, random_state, tol, precompute_distances)\u001b[0m\n\u001b[1;32m    434\u001b[0m     \u001b[0;31m# init\u001b[0m\u001b[0;34m\u001b[0m\u001b[0;34m\u001b[0m\u001b[0;34m\u001b[0m\u001b[0m\n\u001b[1;32m    435\u001b[0m     centers = _init_centroids(X, n_clusters, init, random_state=random_state,\n\u001b[0;32m--> 436\u001b[0;31m                               x_squared_norms=x_squared_norms)\n\u001b[0m\u001b[1;32m    437\u001b[0m     \u001b[0mcenters\u001b[0m \u001b[0;34m=\u001b[0m \u001b[0mnp\u001b[0m\u001b[0;34m.\u001b[0m\u001b[0mascontiguousarray\u001b[0m\u001b[0;34m(\u001b[0m\u001b[0mcenters\u001b[0m\u001b[0;34m)\u001b[0m\u001b[0;34m\u001b[0m\u001b[0;34m\u001b[0m\u001b[0m\n\u001b[1;32m    438\u001b[0m     \u001b[0;32mif\u001b[0m \u001b[0mverbose\u001b[0m\u001b[0;34m:\u001b[0m\u001b[0;34m\u001b[0m\u001b[0;34m\u001b[0m\u001b[0m\n",
      "\u001b[0;32m~/anaconda3/lib/python3.7/site-packages/sklearn/cluster/k_means_.py\u001b[0m in \u001b[0;36m_init_centroids\u001b[0;34m(X, k, init, random_state, x_squared_norms, init_size)\u001b[0m\n\u001b[1;32m    746\u001b[0m     \u001b[0;32mif\u001b[0m \u001b[0misinstance\u001b[0m\u001b[0;34m(\u001b[0m\u001b[0minit\u001b[0m\u001b[0;34m,\u001b[0m \u001b[0mstring_types\u001b[0m\u001b[0;34m)\u001b[0m \u001b[0;32mand\u001b[0m \u001b[0minit\u001b[0m \u001b[0;34m==\u001b[0m \u001b[0;34m'k-means++'\u001b[0m\u001b[0;34m:\u001b[0m\u001b[0;34m\u001b[0m\u001b[0;34m\u001b[0m\u001b[0m\n\u001b[1;32m    747\u001b[0m         centers = _k_init(X, k, random_state=random_state,\n\u001b[0;32m--> 748\u001b[0;31m                           x_squared_norms=x_squared_norms)\n\u001b[0m\u001b[1;32m    749\u001b[0m     \u001b[0;32melif\u001b[0m \u001b[0misinstance\u001b[0m\u001b[0;34m(\u001b[0m\u001b[0minit\u001b[0m\u001b[0;34m,\u001b[0m \u001b[0mstring_types\u001b[0m\u001b[0;34m)\u001b[0m \u001b[0;32mand\u001b[0m \u001b[0minit\u001b[0m \u001b[0;34m==\u001b[0m \u001b[0;34m'random'\u001b[0m\u001b[0;34m:\u001b[0m\u001b[0;34m\u001b[0m\u001b[0;34m\u001b[0m\u001b[0m\n\u001b[1;32m    750\u001b[0m         \u001b[0mseeds\u001b[0m \u001b[0;34m=\u001b[0m \u001b[0mrandom_state\u001b[0m\u001b[0;34m.\u001b[0m\u001b[0mpermutation\u001b[0m\u001b[0;34m(\u001b[0m\u001b[0mn_samples\u001b[0m\u001b[0;34m)\u001b[0m\u001b[0;34m[\u001b[0m\u001b[0;34m:\u001b[0m\u001b[0mk\u001b[0m\u001b[0;34m]\u001b[0m\u001b[0;34m\u001b[0m\u001b[0;34m\u001b[0m\u001b[0m\n",
      "\u001b[0;32m~/anaconda3/lib/python3.7/site-packages/sklearn/cluster/k_means_.py\u001b[0m in \u001b[0;36m_k_init\u001b[0;34m(X, n_clusters, x_squared_norms, random_state, n_local_trials)\u001b[0m\n\u001b[1;32m    124\u001b[0m             \u001b[0;31m# Compute potential when including center candidate\u001b[0m\u001b[0;34m\u001b[0m\u001b[0;34m\u001b[0m\u001b[0;34m\u001b[0m\u001b[0m\n\u001b[1;32m    125\u001b[0m             new_dist_sq = np.minimum(closest_dist_sq,\n\u001b[0;32m--> 126\u001b[0;31m                                      distance_to_candidates[trial])\n\u001b[0m\u001b[1;32m    127\u001b[0m             \u001b[0mnew_pot\u001b[0m \u001b[0;34m=\u001b[0m \u001b[0mnew_dist_sq\u001b[0m\u001b[0;34m.\u001b[0m\u001b[0msum\u001b[0m\u001b[0;34m(\u001b[0m\u001b[0;34m)\u001b[0m\u001b[0;34m\u001b[0m\u001b[0;34m\u001b[0m\u001b[0m\n\u001b[1;32m    128\u001b[0m \u001b[0;34m\u001b[0m\u001b[0m\n",
      "\u001b[0;31mKeyboardInterrupt\u001b[0m: "
     ]
    }
   ],
   "source": [
    "# Let's evaluate the loss function on the test data\n",
    "loss = []\n",
    "for k in range(1, X_train.shape[0]):\n",
    "    kmeans = KMeans(n_clusters=k, random_state=0).fit(X_train)\n",
    "    loss.append(kmeans.score(X_test))"
   ]
  },
  {
   "cell_type": "code",
   "execution_count": null,
   "metadata": {},
   "outputs": [],
   "source": [
    "for i, (x,y) in enumerate(zip(loss, loss[1:] )):\n",
    "    if (y-x) <= 0:\n",
    "        clusterval = i+1\n",
    "        print(\"There should be %i clusters\" % clusterval )\n",
    "        break"
   ]
  },
  {
   "cell_type": "code",
   "execution_count": null,
   "metadata": {},
   "outputs": [],
   "source": [
    "plt.figure(figsize=(12, 8))\n",
    "plt.plot(np.arange(len(loss)), loss, c='red', label='loss')\n",
    "plt.axvline(clusterval, color='k', linestyle='solid')\n",
    "plt.title(\"Optimal Number of Clusters (%i) Using Change in Loss from additional cluster\" % clusterval)\n",
    "plt.ylabel(\"Loss of K-Means\")\n",
    "plt.xlabel(\"Number of Clusters in K-Means\")\n",
    "plt.grid()\n",
    "plt.legend()\n",
    "plt.show()"
   ]
  },
  {
   "cell_type": "code",
   "execution_count": null,
   "metadata": {},
   "outputs": [],
   "source": []
  },
  {
   "cell_type": "code",
   "execution_count": 27,
   "metadata": {},
   "outputs": [],
   "source": [
    "from sklearn.cluster import DBSCAN\n",
    "dbscan = DBSCAN()"
   ]
  },
  {
   "cell_type": "code",
   "execution_count": 28,
   "metadata": {},
   "outputs": [
    {
     "data": {
      "text/plain": [
       "DBSCAN(algorithm='auto', eps=0.5, leaf_size=30, metric='euclidean',\n",
       "    metric_params=None, min_samples=5, n_jobs=None, p=None)"
      ]
     },
     "execution_count": 28,
     "metadata": {},
     "output_type": "execute_result"
    }
   ],
   "source": [
    "dbscan"
   ]
  },
  {
   "cell_type": "code",
   "execution_count": 29,
   "metadata": {},
   "outputs": [
    {
     "data": {
      "text/plain": [
       "DBSCAN(algorithm='auto', eps=0.5, leaf_size=30, metric='euclidean',\n",
       "    metric_params=None, min_samples=5, n_jobs=None, p=None)"
      ]
     },
     "execution_count": 29,
     "metadata": {},
     "output_type": "execute_result"
    }
   ],
   "source": [
    "dbscan.fit(cluster_data.drop(['VGNUMMER','inOnderzoek','reg_date'],axis=1).dropna())"
   ]
  },
  {
   "cell_type": "code",
   "execution_count": 30,
   "metadata": {},
   "outputs": [
    {
     "data": {
      "text/plain": [
       "array([-1, -1, -1, ..., -1, -1, -1])"
      ]
     },
     "execution_count": 30,
     "metadata": {},
     "output_type": "execute_result"
    }
   ],
   "source": [
    "dbscan.labels_"
   ]
  },
  {
   "cell_type": "code",
   "execution_count": null,
   "metadata": {},
   "outputs": [],
   "source": [
    "import matplotlib as plt"
   ]
  },
  {
   "cell_type": "code",
   "execution_count": 36,
   "metadata": {},
   "outputs": [
    {
     "data": {
      "image/png": "[encoded data removed]",
      "text/plain": [
       "<Figure size 432x288 with 1 Axes>"
      ]
     },
     "metadata": {
      "needs_background": "light"
     },
     "output_type": "display_data"
    }
   ],
   "source": [
    "from sklearn.decomposition import PCA\n",
    "pca = PCA(n_components=2).fit(cluster_data.drop(['VGNUMMER','inOnderzoek','reg_date'],axis=1).dropna())\n",
    "pca_2d = pca.transform(cluster_data.drop(['VGNUMMER','inOnderzoek','reg_date'],axis=1).dropna())\n",
    "for i in range(0, pca_2d.shape[0]):\n",
    "    if dbscan.labels_[i] == 0:\n",
    "        c1 = plt.scatter(pca_2d[i,0],pca_2d[i,1],c='r', marker='+')\n",
    "    elif dbscan.labels_[i] == 1:\n",
    "        c2 = plt.scatter(pca_2d[i,0],pca_2d[i,1],c='g', marker='o')\n",
    "    elif dbscan.labels_[i] == -1:\n",
    "        c3 = plt.scatter(pca_2d[i,0],pca_2d[i,1],c='b', marker='*')\n",
    "plt.legend([c1, c2, c3], ['Cluster 1', 'Cluster 2', 'Noise'])\n",
    "plt.title('DBSCAN finds 2 clusters and noise')\n",
    "plt.show()"
   ]
  },
  {
   "cell_type": "code",
   "execution_count": null,
   "metadata": {},
   "outputs": [],
   "source": []
  },
  {
   "cell_type": "code",
   "execution_count": null,
   "metadata": {},
   "outputs": [],
   "source": [
    "print(__doc__)\n",
    "\n",
    "import numpy as np\n",
    "\n",
    "from sklearn.cluster import DBSCAN\n",
    "from sklearn import metrics\n",
    "from sklearn.datasets import make_blobs\n",
    "from sklearn.preprocessing import StandardScaler\n",
    "\n",
    "\n",
    "# #############################################################################\n",
    "# Generate sample data\n",
    "# centers = [[1, 1], [-1, -1], [1, -1]]\n",
    "# X, labels_true = make_blobs(n_samples=750, centers=centers, cluster_std=0.4,\n",
    "#                             random_state=0)\n",
    "\n",
    "X = StandardScaler().fit_transform(cluster_data.drop(['VGNUMMER','inOnderzoek','reg_date'],axis=1).dropna())\n",
    "\n",
    "# #############################################################################\n",
    "# Compute DBSCAN\n",
    "db = DBSCAN(eps=0.3, min_samples=10).fit(X)\n",
    "core_samples_mask = np.zeros_like(db.labels_, dtype=bool)\n",
    "core_samples_mask[db.core_sample_indices_] = True\n",
    "labels = db.labels_\n",
    "\n",
    "# Number of clusters in labels, ignoring noise if present.\n",
    "n_clusters_ = len(set(labels)) - (1 if -1 in labels else 0)\n",
    "n_noise_ = list(labels).count(-1)\n",
    "\n",
    "print('Estimated number of clusters: %d' % n_clusters_)\n",
    "print('Estimated number of noise points: %d' % n_noise_)\n",
    "# print(\"Homogeneity: %0.3f\" % metrics.homogeneity_score(labels_true, labels))\n",
    "# print(\"Completeness: %0.3f\" % metrics.completeness_score(labels_true, labels))\n",
    "# print(\"V-measure: %0.3f\" % metrics.v_measure_score(labels_true, labels))\n",
    "# print(\"Adjusted Rand Index: %0.3f\"\n",
    "#       % metrics.adjusted_rand_score(labels_true, labels))\n",
    "# print(\"Adjusted Mutual Information: %0.3f\"\n",
    "#       % metrics.adjusted_mutual_info_score(labels_true, labels))\n",
    "print(\"Silhouette Coefficient: %0.3f\"\n",
    "      % metrics.silhouette_score(X, labels))"
   ]
  },
  {
   "cell_type": "code",
   "execution_count": 22,
   "metadata": {},
   "outputs": [
    {
     "data": {
      "image/png": "[encoded data removed]",
      "text/plain": [
       "<Figure size 432x288 with 1 Axes>"
      ]
     },
     "metadata": {
      "needs_background": "light"
     },
     "output_type": "display_data"
    }
   ],
   "source": [
    "# #############################################################################\n",
    "# Plot result\n",
    "import matplotlib.pyplot as plt\n",
    "\n",
    "# Black removed and is used for noise instead.\n",
    "unique_labels = set(labels)\n",
    "colors = [plt.cm.Spectral(each)\n",
    "          for each in np.linspace(0, 1, len(unique_labels))]\n",
    "for k, col in zip(unique_labels, colors):\n",
    "    if k == -1:\n",
    "        # Black used for noise.\n",
    "        col = [0, 0, 0, 1]\n",
    "\n",
    "    class_member_mask = (labels == k)\n",
    "\n",
    "    xy = X[class_member_mask & core_samples_mask]\n",
    "    plt.plot(xy[:, 0], xy[:, 1], 'o', markerfacecolor=tuple(col),\n",
    "             markeredgecolor='k', markersize=14)\n",
    "\n",
    "    xy = X[class_member_mask & ~core_samples_mask]\n",
    "    plt.plot(xy[:, 0], xy[:, 1], 'o', markerfacecolor=tuple(col),\n",
    "             markeredgecolor='k', markersize=6)\n",
    "\n",
    "plt.title('Estimated number of clusters: %d' % n_clusters_)\n",
    "plt.show()"
   ]
  },
  {
   "cell_type": "code",
   "execution_count": null,
   "metadata": {},
   "outputs": [],
   "source": []
  }
 ],
 "metadata": {
  "kernelspec": {
   "display_name": "Python 3",
   "language": "python",
   "name": "python3"
  },
  "language_info": {
   "codemirror_mode": {
    "name": "ipython",
    "version": 3
   },
   "file_extension": ".py",
   "mimetype": "text/x-python",
   "name": "python",
   "nbconvert_exporter": "python",
   "pygments_lexer": "ipython3",
   "version": "3.7.4"
  }
 },
 "nbformat": 4,
 "nbformat_minor": 2
}
