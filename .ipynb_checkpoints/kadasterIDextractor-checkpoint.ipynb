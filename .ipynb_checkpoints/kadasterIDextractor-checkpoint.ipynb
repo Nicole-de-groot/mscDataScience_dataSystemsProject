{
 "cells": [
  {
   "cell_type": "code",
   "execution_count": 1,
   "metadata": {},
   "outputs": [],
   "source": [
    "import pandas as pd\n",
    "from xml.dom import minidom\n",
    "import pickle\n",
    "import os\n",
    "import glob"
   ]
  },
  {
   "cell_type": "code",
   "execution_count": 2,
   "metadata": {},
   "outputs": [],
   "source": [
    "VA_adresses = \"VA_addresses_dict\"\n",
    "if os.path.isfile(VA_adresses + \".p\"):\n",
    "    with open(VA_adresses + '.p', 'rb') as fp:\n",
    "        VA_addresses_dict = pickle.load(fp)\n",
    "else: VA_addresses_dict = {}\n",
    "\n",
    "checkedNUM = \"checkedNUMfiles\"\n",
    "if os.path.isfile(checkedNUM + \".p\"):\n",
    "    with open(checkedNUM + \".p\", 'rb') as fp:\n",
    "        checkedNUMfiles = pickle.load(fp)\n",
    "else: checkedNUMfiles = []"
   ]
  },
  {
   "cell_type": "code",
   "execution_count": 3,
   "metadata": {},
   "outputs": [
    {
     "data": {
      "text/plain": [
       "['9999NUM08112019-000001.xml']"
      ]
     },
     "execution_count": 3,
     "metadata": {},
     "output_type": "execute_result"
    }
   ],
   "source": [
    "checkedNUMfiles"
   ]
  },
  {
   "cell_type": "code",
   "execution_count": 4,
   "metadata": {},
   "outputs": [
    {
     "data": {
      "text/plain": [
       "{}"
      ]
     },
     "execution_count": 4,
     "metadata": {},
     "output_type": "execute_result"
    }
   ],
   "source": [
    "VA_addresses_dict"
   ]
  },
  {
   "cell_type": "code",
   "execution_count": 9,
   "metadata": {},
   "outputs": [],
   "source": [
    "files = glob.glob(\"*xml\")"
   ]
  },
  {
   "cell_type": "code",
   "execution_count": 10,
   "metadata": {},
   "outputs": [],
   "source": [
    "i = iter(files)"
   ]
  },
  {
   "cell_type": "code",
   "execution_count": 21,
   "metadata": {},
   "outputs": [
    {
     "name": "stdout",
     "output_type": "stream",
     "text": [
      "9999NUM08112019-000003.xml\n"
     ]
    }
   ],
   "source": [
    "currentfile = next(i)\n",
    "while currentfile in checkedNUMfiles:\n",
    "    print(currentfile,\"\\talready checked\")\n",
    "    currentfile = next(i)\n",
    "print(currentfile)"
   ]
  },
  {
   "cell_type": "code",
   "execution_count": 22,
   "metadata": {},
   "outputs": [],
   "source": [
    "mydoc = minidom.parse(currentfile)"
   ]
  },
  {
   "cell_type": "code",
   "execution_count": 23,
   "metadata": {},
   "outputs": [],
   "source": [
    "items = mydoc.getElementsByTagName('bag_LVC:Nummeraanduiding')"
   ]
  },
  {
   "cell_type": "raw",
   "metadata": {},
   "source": [
    "print(items[0].firstChild.nodeName,\":\\t\",items[0].firstChild.firstChild.nodeValue)"
   ]
  },
  {
   "cell_type": "markdown",
   "metadata": {},
   "source": [
    "## Get ID's"
   ]
  },
  {
   "cell_type": "raw",
   "metadata": {},
   "source": [
    "VA = pd.read_csv(\"VA_addresses.csv\", index_col=0)\n",
    "VA.iloc[0][1]"
   ]
  },
  {
   "cell_type": "raw",
   "metadata": {},
   "source": [
    "len(items)"
   ]
  },
  {
   "cell_type": "code",
   "execution_count": 24,
   "metadata": {},
   "outputs": [
    {
     "name": "stdout",
     "output_type": "stream",
     "text": [
      "0010200000100868 4 9934GD\n",
      "0010200000101596 5 9934AR\n",
      "0010200000102642 10 9934CK\n",
      "0010200000102643 10 9934CK\n",
      "0010200000102643 10 9934CK\n",
      "0010200000102921 5 9934AR\n",
      "CPU times: user 1min 5s, sys: 15.6 ms, total: 1min 5s\n",
      "Wall time: 1min 5s\n"
     ]
    }
   ],
   "source": [
    "%%time\n",
    "for item in items:\n",
    "    for child in item.childNodes:\n",
    "#         print(child.nodeName[8:], child.firstChild.nodeValue)\n",
    "        if child.nodeName[8:] == 'identificatie':\n",
    "            id = child.firstChild.nodeValue\n",
    "        elif child.nodeName[8:] == 'huisnummer':\n",
    "            huisnr = child.firstChild.nodeValue\n",
    "        elif child.nodeName[8:] == 'postcode':\n",
    "            pc = child.firstChild.nodeValue\n",
    "    if VA.where((VA[\"PC\"] == pc)&(VA[\"HUISNR\"] == int(huisnr))).dropna().empty == False:\n",
    "        print(id,huisnr,pc)\n",
    "        VA_addresses_dict[id]=[huisnr,pc]\n",
    "#     print(id,int(huisnr),pc)"
   ]
  },
  {
   "cell_type": "code",
   "execution_count": 25,
   "metadata": {},
   "outputs": [
    {
     "data": {
      "text/plain": [
       "{'0010200000100868': ['4', '9934GD'],\n",
       " '0010200000101596': ['5', '9934AR'],\n",
       " '0010200000102642': ['10', '9934CK'],\n",
       " '0010200000102643': ['10', '9934CK'],\n",
       " '0010200000102921': ['5', '9934AR']}"
      ]
     },
     "execution_count": 25,
     "metadata": {},
     "output_type": "execute_result"
    }
   ],
   "source": [
    "VA_addresses_dict"
   ]
  },
  {
   "cell_type": "code",
   "execution_count": 26,
   "metadata": {},
   "outputs": [],
   "source": [
    "if bool(VA_addresses_dict):\n",
    "    with open(VA_adresses + '.p', 'wb') as fp:\n",
    "        pickle.dump(VA_addresses_dict, fp)"
   ]
  },
  {
   "cell_type": "code",
   "execution_count": 27,
   "metadata": {},
   "outputs": [],
   "source": [
    "checkedNUMfiles.append(currentfile)\n",
    "with open(checkedNUM + '.p', 'wb') as fp:\n",
    "        pickle.dump(checkedNUMfiles, fp)"
   ]
  },
  {
   "cell_type": "markdown",
   "metadata": {},
   "source": [
    "## Get all data"
   ]
  },
  {
   "cell_type": "code",
   "execution_count": null,
   "metadata": {},
   "outputs": [],
   "source": [
    "columns = []\n",
    "data = {}\n",
    "for item in items[:1]:\n",
    "    for child in item.childNodes:\n",
    "        print(child.nodeName[8:], child.firstChild.nodeValue)\n",
    "        if child.nodeName[8:] == 'identificatie':\n",
    "            id = child.firstChild.nodeValue\n",
    "            row = []\n",
    "        else:\n",
    "            if len(columns) < 12:\n",
    "                columns.append(child.nodeName[8:])\n",
    "            row.append(child.firstChild.nodeValue)\n",
    "    data[id] = row\n",
    "    print()\n",
    "print(columns)\n",
    "print(data)"
   ]
  },
  {
   "cell_type": "code",
   "execution_count": null,
   "metadata": {},
   "outputs": [],
   "source": []
  }
 ],
 "metadata": {
  "kernelspec": {
   "display_name": "Python 3",
   "language": "python",
   "name": "python3"
  },
  "language_info": {
   "codemirror_mode": {
    "name": "ipython",
    "version": 3
   },
   "file_extension": ".py",
   "mimetype": "text/x-python",
   "name": "python",
   "nbconvert_exporter": "python",
   "pygments_lexer": "ipython3",
   "version": "3.7.4"
  }
 },
 "nbformat": 4,
 "nbformat_minor": 2
}
